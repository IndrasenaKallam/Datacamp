{
  "nbformat": 4,
  "nbformat_minor": 0,
  "metadata": {
    "colab": {
      "name": "Comparision.ipynb",
      "provenance": []
    },
    "kernelspec": {
      "name": "python3",
      "display_name": "Python 3"
    }
  },
  "cells": [
    {
      "cell_type": "code",
      "metadata": {
        "id": "G68PRRF6esiw",
        "colab_type": "code",
        "colab": {}
      },
      "source": [
        "# Comparison of booleans\n",
        "print(True == False)\n",
        "\n",
        "# Comparison of integers\n",
        "\n",
        "print(-5*15 != 75)\n",
        "# Comparison of strings\n",
        "print('pyscript'=='PyScript')\n",
        "\n",
        "# Compare a boolean with an integer\n",
        "print(True == 1)"
      ],
      "execution_count": 0,
      "outputs": []
    },
    {
      "cell_type": "code",
      "metadata": {
        "id": "80hXoO3Re6bu",
        "colab_type": "code",
        "colab": {}
      },
      "source": [
        "# Comparison of integers\n",
        "x = -3 * 6\n",
        "print(x>=-10)\n",
        "\n",
        "# Comparison of strings\n",
        "y = \"test\"\n",
        "print(y<=y)\n",
        "\n",
        "# Comparison of booleans\n",
        "print(True > False)"
      ],
      "execution_count": 0,
      "outputs": []
    },
    {
      "cell_type": "code",
      "metadata": {
        "id": "BdpL9_Oqe81a",
        "colab_type": "code",
        "colab": {}
      },
      "source": [
        "# Create arrays\n",
        "import numpy as np\n",
        "my_house = np.array([18.0, 20.0, 10.75, 9.50])\n",
        "your_house = np.array([14.0, 24.0, 14.25, 9.0])\n",
        "\n",
        "# my_house greater than or equal to 18\n",
        "my_house > 18\n",
        "\n",
        "# my_house less than your_house\n",
        "my_house < 18\n",
        "print(my_house>=18,my_house < your_house)"
      ],
      "execution_count": 0,
      "outputs": []
    }
  ]
}