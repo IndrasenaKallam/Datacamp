{
  "nbformat": 4,
  "nbformat_minor": 0,
  "metadata": {
    "colab": {
      "name": "Random.ipynb",
      "provenance": []
    },
    "kernelspec": {
      "name": "python3",
      "display_name": "Python 3"
    }
  },
  "cells": [
    {
      "cell_type": "code",
      "metadata": {
        "id": "AmcWM_9ugLMk",
        "colab_type": "code",
        "colab": {}
      },
      "source": [
        "# Import numpy as np\n",
        "import numpy as np \n",
        "import random\n",
        "np.random.seed(123)\n",
        "\n",
        "\n",
        "# Generate and print random float\n",
        "print(np.random.rand())\n"
      ],
      "execution_count": 0,
      "outputs": []
    },
    {
      "cell_type": "code",
      "metadata": {
        "id": "1SdqxK1BgVoZ",
        "colab_type": "code",
        "colab": {}
      },
      "source": [
        "# Import numpy and set seed\n",
        "import numpy as np\n",
        "np.random.seed(123)\n",
        "\n",
        "# Use randint() to simulate a dice\n",
        "np.random.randint(1,7)\n",
        "\n",
        "# Use randint() again\n",
        "print(np.random.randint(1,7))\n",
        "print(np.random.randint(1,7))\n"
      ],
      "execution_count": 0,
      "outputs": []
    },
    {
      "cell_type": "code",
      "metadata": {
        "id": "vQKkU8iJgYI7",
        "colab_type": "code",
        "colab": {}
      },
      "source": [
        "# Numpy is imported, seed is set\n",
        "import numpy as np \n",
        "np.random.seed(123)\n",
        "# Starting step\n",
        "step = 50\n",
        "\n",
        "# Roll the dice\n",
        "dice =np.random.randint(1,7)\n",
        "\n",
        "# Finish the control construct\n",
        "if dice <= 2 :\n",
        "    step = step - 1\n",
        "elif dice <= 5 :\n",
        "    step = step+1\n",
        "else :\n",
        "    step = step + np.random.randint(1,7)\n",
        "\n",
        "# Print out dice and step\n",
        "print(dice)\n",
        "\n",
        "print(step)"
      ],
      "execution_count": 0,
      "outputs": []
    },
    {
      "cell_type": "code",
      "metadata": {
        "id": "2cQzO13egYuX",
        "colab_type": "code",
        "colab": {}
      },
      "source": [
        "# Numpy is imported, seed is set\n",
        "\n",
        "# Initialize random_walk\n",
        "random_walk =  [0]\n",
        "\n",
        "# Complete the ___\n",
        "for x in range(100) :\n",
        "    # Set step: last element in random_walk\n",
        "    step = random_walk[-1]\n",
        "\n",
        "    # Roll the dice\n",
        "    dice = np.random.randint(1,7)\n",
        "\n",
        "    # Determine next step\n",
        "    if dice <= 2:\n",
        "        step = step - 1\n",
        "    elif dice <= 5:\n",
        "        step = step + 1\n",
        "    else:\n",
        "        step = step + np.random.randint(1,7)\n",
        "\n",
        "    # append next_step to random_walk\n",
        "    random_walk.append(step)\n",
        "\n",
        "# Print random_walk\n",
        "print(random_walk)"
      ],
      "execution_count": 0,
      "outputs": []
    },
    {
      "cell_type": "code",
      "metadata": {
        "id": "UVaZ3bQwgatB",
        "colab_type": "code",
        "colab": {}
      },
      "source": [
        "# Numpy is imported, seed is set\n",
        "\n",
        "# Initialize random_walk\n",
        "random_walk = [0]\n",
        "\n",
        "for x in range(100) :\n",
        "    step = random_walk[-1]\n",
        "    dice = np.random.randint(1,7)\n",
        "\n",
        "    if dice <= 2:\n",
        "        # Replace below: use max to make sure step can't go below 0\n",
        "        step = max(0,step - 1)\n",
        "        \n",
        "    elif dice <= 5:\n",
        "        step = max(0,step + 1)\n",
        "    else:\n",
        "        step = step + np.random.randint(1,7)\n",
        "\n",
        "    random_walk.append(step)\n",
        "\n",
        "print(random_walk)"
      ],
      "execution_count": 0,
      "outputs": []
    },
    {
      "cell_type": "code",
      "metadata": {
        "id": "dQ47eVM_gcTL",
        "colab_type": "code",
        "colab": {}
      },
      "source": [
        "# Numpy is imported, seed is set\n",
        "\n",
        "# Initialization\n",
        "random_walk = [0]\n",
        "\n",
        "for x in range(100) :\n",
        "    step = random_walk[-1]\n",
        "    dice = np.random.randint(1,7)\n",
        "\n",
        "    if dice <= 2:\n",
        "        step = max(0, step - 1)\n",
        "    elif dice <= 5:\n",
        "        step = step + 1\n",
        "    else:\n",
        "        step = step + np.random.randint(1,7)\n",
        "\n",
        "    random_walk.append(step)\n",
        "\n",
        "# Import matplotlib.pyplot as plt\n",
        "import matplotlib.pyplot as plt \n",
        "\n",
        "\n",
        "# Plot random_walk\n",
        "plt.plot(random_walk)\n",
        "\n",
        "# Show the plot\n",
        "plt.show()"
      ],
      "execution_count": 0,
      "outputs": []
    },
    {
      "cell_type": "code",
      "metadata": {
        "id": "fIQCG53HgeTF",
        "colab_type": "code",
        "colab": {}
      },
      "source": [
        ""
      ],
      "execution_count": 0,
      "outputs": []
    }
  ]
}