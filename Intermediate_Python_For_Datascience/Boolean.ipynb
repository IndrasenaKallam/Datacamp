{
  "nbformat": 4,
  "nbformat_minor": 0,
  "metadata": {
    "colab": {
      "name": "Boolean.ipynb",
      "provenance": []
    },
    "kernelspec": {
      "name": "python3",
      "display_name": "Python 3"
    }
  },
  "cells": [
    {
      "cell_type": "code",
      "metadata": {
        "id": "WquI-WutfHqJ",
        "colab_type": "code",
        "colab": {}
      },
      "source": [
        "# Define variables\n",
        "my_kitchen = 18.0\n",
        "your_kitchen = 14.0\n",
        "\n",
        "# my_kitchen bigger than 10 and smaller than 18?\n",
        "print(my_kitchen >10 and my_kitchen <18)\n",
        "\n",
        "# my_kitchen smaller than 14 or bigger than 17?\n",
        "print(my_kitchen <14 or my_kitchen >17)\n",
        "\n",
        "# Double my_kitchen smaller than triple your_kitchen?\n",
        "print(my_kitchen*2 < your_kitchen*3)"
      ],
      "execution_count": 0,
      "outputs": []
    },
    {
      "cell_type": "code",
      "metadata": {
        "id": "h5iFL-TwfIcg",
        "colab_type": "code",
        "colab": {}
      },
      "source": [
        "# Create arrays\n",
        "import numpy as np\n",
        "my_house = np.array([18.0, 20.0, 10.75, 9.50])\n",
        "your_house = np.array([14.0, 24.0, 14.25, 9.0])\n",
        "\n",
        "# my_house greater than 18.5 or smaller than 10\n",
        "print(np.logical_or(my_house > 18.5 ,my_house < 10))\n",
        "\n",
        "# Both my_house and your_house smaller than 11\n",
        "print(np.logical_and(my_house < 11 ,your_house <11))"
      ],
      "execution_count": 0,
      "outputs": []
    },
    {
      "cell_type": "code",
      "metadata": {
        "id": "rAEEp7vCfLXo",
        "colab_type": "code",
        "colab": {}
      },
      "source": [
        "# Define variables\n",
        "room = \"kit\"\n",
        "area = 14.0\n",
        "\n",
        "# if statement for room\n",
        "if room == \"kit\" :\n",
        "    print(\"looking around in the kitchen.\")\n",
        "\n",
        "# if statement for area\n",
        "if area > 15:\n",
        "    print('big place!')"
      ],
      "execution_count": 0,
      "outputs": []
    },
    {
      "cell_type": "code",
      "metadata": {
        "id": "-YGyFhHjfQVe",
        "colab_type": "code",
        "colab": {}
      },
      "source": [
        "# Define variables\n",
        "room = \"kit\"\n",
        "area = 14.0\n",
        "\n",
        "# if-else construct for room\n",
        "if room == \"kit\" :\n",
        "    print(\"looking around in the kitchen.\")\n",
        "else :\n",
        "    print(\"looking around elsewhere.\")\n",
        "\n",
        "# if-else construct for area\n",
        "if area > 15 :\n",
        "    print(\"big place!\")\n",
        "else:\n",
        "    print('pretty small.')"
      ],
      "execution_count": 0,
      "outputs": []
    },
    {
      "cell_type": "code",
      "metadata": {
        "id": "W_dhVkjlfQ4Y",
        "colab_type": "code",
        "colab": {}
      },
      "source": [
        "# Define variables\n",
        "room = \"bed\"\n",
        "area = 14.0\n",
        "\n",
        "# if-elif-else construct for room\n",
        "if room == \"kit\" :\n",
        "    print(\"looking around in the kitchen.\")\n",
        "elif room == \"bed\":\n",
        "    print(\"looking around in the bedroom.\")\n",
        "else :\n",
        "    print(\"looking around elsewhere.\")\n",
        "\n",
        "# if-elif-else construct for area\n",
        "if area > 15 :\n",
        "    print(\"big place!\")\n",
        "elif area > 10:\n",
        "    print('medium size, nice!')\n",
        "else :\n",
        "    print(\"pretty small.\")"
      ],
      "execution_count": 0,
      "outputs": []
    }
  ]
}