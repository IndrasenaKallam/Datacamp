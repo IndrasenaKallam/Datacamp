{
  "nbformat": 4,
  "nbformat_minor": 0,
  "metadata": {
    "colab": {
      "name": "ScatterPlot.ipynb",
      "provenance": []
    },
    "kernelspec": {
      "name": "python3",
      "display_name": "Python 3"
    }
  },
  "cells": [
    {
      "cell_type": "code",
      "metadata": {
        "id": "dRJIzEkqoqd3",
        "colab_type": "code",
        "colab": {}
      },
      "source": [
        "# Change the line plot below to a scatter plot\n",
        "plt.scatter(gdp_cap, life_exp)\n",
        "\n",
        "# Put the x-axis on a logarithmic scale\n",
        "plt.xscale('log')\n",
        "\n",
        "# Show plot\n",
        "plt.show()"
      ],
      "execution_count": 0,
      "outputs": []
    },
    {
      "cell_type": "code",
      "metadata": {
        "id": "Tyw9Y4h6o2mO",
        "colab_type": "code",
        "colab": {}
      },
      "source": [
        "# Import package\n",
        "import matplotlib.pyplot as plt \n",
        "\n",
        "# Build Scatter plot\n",
        "plt.scatter(pop,life_exp)\n",
        "# Show plot\n",
        "plt.show()"
      ],
      "execution_count": 0,
      "outputs": []
    },
    {
      "cell_type": "code",
      "metadata": {
        "id": "sqfAiMQdo62G",
        "colab_type": "code",
        "colab": {}
      },
      "source": [
        "# Create histogram of life_exp data\n",
        "plt.hist(life_exp)\n",
        "\n",
        "# Display histogram\n",
        "plt.show()"
      ],
      "execution_count": 0,
      "outputs": []
    },
    {
      "cell_type": "code",
      "metadata": {
        "id": "clKf37aro9I-",
        "colab_type": "code",
        "colab": {}
      },
      "source": [
        "# Build histogram with 5 bins\n",
        "plt.hist(life_exp,bins=5)\n",
        "\n",
        "# Show and clean up plot\n",
        "plt.show()\n",
        "plt.clf()\n",
        "\n",
        "# Build histogram with 20 bins\n",
        "plt.hist(life_exp,bins = 20)\n",
        "# Show and clean up again\n",
        "plt.show()\n",
        "plt.clf()"
      ],
      "execution_count": 0,
      "outputs": []
    },
    {
      "cell_type": "code",
      "metadata": {
        "id": "i_R1aikXo_lC",
        "colab_type": "code",
        "colab": {}
      },
      "source": [
        "# Histogram of life_exp, 15 bins\n",
        "plt.hist(life_exp,bins = 15)\n",
        "\n",
        "# Show and clear plot\n",
        "plt.show()\n",
        "plt.clf()\n",
        "\n",
        "# Histogram of life_exp1950, 15 bins\n",
        "\n",
        "plt.hist(life_exp1950,bins = 15)\n",
        "# Show and clear plot again\n",
        "plt.show()\n",
        "plt.clf()"
      ],
      "execution_count": 0,
      "outputs": []
    },
    {
      "cell_type": "code",
      "metadata": {
        "id": "VoPfuboKpAFo",
        "colab_type": "code",
        "colab": {}
      },
      "source": [
        ""
      ],
      "execution_count": 0,
      "outputs": []
    }
  ]
}