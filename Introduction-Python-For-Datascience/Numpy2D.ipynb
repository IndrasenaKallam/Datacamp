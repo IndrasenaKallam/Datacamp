{
  "nbformat": 4,
  "nbformat_minor": 0,
  "metadata": {
    "colab": {
      "name": "Numpy2D.ipynb",
      "provenance": []
    },
    "kernelspec": {
      "name": "python3",
      "display_name": "Python 3"
    }
  },
  "cells": [
    {
      "cell_type": "code",
      "metadata": {
        "id": "Dqxx6EC4Vniw",
        "colab_type": "code",
        "colab": {
          "base_uri": "https://localhost:8080/",
          "height": 52
        },
        "outputId": "4c342e13-a4c3-4d98-8e34-02fa24c5cbff"
      },
      "source": [
        "# Create baseball, a list of lists\n",
        "baseball = [[180, 78.4],\n",
        "            [215, 102.7],\n",
        "            [210, 98.5],\n",
        "            [188, 75.2]]\n",
        "\n",
        "# Import numpy\n",
        "import numpy as np\n",
        "\n",
        "# Create a 2D numpy array from baseball: np_baseball\n",
        "np_baseball = np.array(baseball)\n",
        "\n",
        "# Print out the type of np_baseball\n",
        "print(type(np_baseball))\n",
        "\n",
        "# Print out the shape of np_baseball\n",
        "print(np_baseball.shape)\n"
      ],
      "execution_count": 28,
      "outputs": [
        {
          "output_type": "stream",
          "text": [
            "<class 'numpy.ndarray'>\n",
            "(4, 2)\n"
          ],
          "name": "stdout"
        }
      ]
    },
    {
      "cell_type": "code",
      "metadata": {
        "id": "y05xXJceV0q4",
        "colab_type": "code",
        "colab": {
          "base_uri": "https://localhost:8080/",
          "height": 35
        },
        "outputId": "d211a42b-2101-4292-a500-da5e20a7de59"
      },
      "source": [
        "# baseball is available as a regular list of lists\n",
        "\n",
        "# Import numpy package\n",
        "import numpy as np\n",
        "\n",
        "# Create a 2D numpy array from baseball: np_baseball\n",
        "np_baseball = np.array(baseball)\n",
        "\n",
        "\n",
        "# Print out the shape of np_baseball\n",
        "print(np_baseball.shape)"
      ],
      "execution_count": 29,
      "outputs": [
        {
          "output_type": "stream",
          "text": [
            "(4, 2)\n"
          ],
          "name": "stdout"
        }
      ]
    },
    {
      "cell_type": "code",
      "metadata": {
        "id": "3hOguFORWWBc",
        "colab_type": "code",
        "colab": {}
      },
      "source": [
        "# baseball is available as a regular list of lists\n",
        "\n",
        "# Import numpy package\n",
        "import numpy as np\n",
        "\n",
        "# Create np_baseball (2 cols)\n",
        "np_baseball = np.array(baseball)\n",
        "\n",
        "# Print out the 50th row of np_baseball\n",
        "print(np_baseball[49,:])\n",
        "\n",
        "# Select the entire second column of np_baseball: np_weight_lb\n",
        "np_weight_lb = np_baseball[:,1]\n",
        "\n",
        "# Print out height of 124th player\n",
        "print(np_baseball[123, 0])"
      ],
      "execution_count": 0,
      "outputs": []
    },
    {
      "cell_type": "code",
      "metadata": {
        "id": "ZfBrhrwEWW_M",
        "colab_type": "code",
        "colab": {}
      },
      "source": [
        "# baseball is available as a regular list of lists\n",
        "# updated is available as 2D numpy array\n",
        "\n",
        "# Import numpy package\n",
        "import numpy as np\n",
        "\n",
        "# Create np_baseball (3 cols)\n",
        "np_baseball = np.array(baseball)\n",
        "\n",
        "# Print out addition of np_baseball and updated\n",
        "print(np_baseball+updated)\n",
        "\n",
        "# Create numpy array: conversion\n",
        "conversion = np.array([0.0254,0.453592,1])\n",
        "\n",
        "\n",
        "# Print out product of np_baseball and conversion\n",
        "print(np_baseball * conversion)"
      ],
      "execution_count": 0,
      "outputs": []
    },
    {
      "cell_type": "code",
      "metadata": {
        "id": "mYCapEByWZJC",
        "colab_type": "code",
        "colab": {}
      },
      "source": [
        ""
      ],
      "execution_count": 0,
      "outputs": []
    }
  ]
}