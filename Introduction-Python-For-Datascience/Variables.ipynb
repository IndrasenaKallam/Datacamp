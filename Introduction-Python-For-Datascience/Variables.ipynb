{
  "nbformat": 4,
  "nbformat_minor": 0,
  "metadata": {
    "colab": {
      "name": "Variables.ipynb",
      "provenance": []
    },
    "kernelspec": {
      "name": "python3",
      "display_name": "Python 3"
    }
  },
  "cells": [
    {
      "cell_type": "code",
      "metadata": {
        "id": "PlbqNW7JRYt7",
        "colab_type": "code",
        "colab": {
          "base_uri": "https://localhost:8080/",
          "height": 35
        },
        "outputId": "32eeddf9-918d-41c5-bbde-43e2baf10be6"
      },
      "source": [
        "# Create a variable savings\n",
        "savings = 100\n",
        "\n",
        "# Print out savings\n",
        "print(savings)\n"
      ],
      "execution_count": 1,
      "outputs": [
        {
          "output_type": "stream",
          "text": [
            "100\n"
          ],
          "name": "stdout"
        }
      ]
    },
    {
      "cell_type": "code",
      "metadata": {
        "id": "8V0l_VC2SQQE",
        "colab_type": "code",
        "colab": {}
      },
      "source": [
        "# Create a variable savings\n",
        "savings =100\n",
        "\n",
        "# Create a variable growth_multiplier\n",
        "growth_multiplier = 1.1\n",
        "\n",
        "# Calculate result"
      ],
      "execution_count": 0,
      "outputs": []
    },
    {
      "cell_type": "code",
      "metadata": {
        "id": "mwgmPUpASUKa",
        "colab_type": "code",
        "colab": {}
      },
      "source": [
        "# Create a variable desc\n",
        "desc = \"compound interest\"\n",
        "\n",
        "# Create a variable profitable\n",
        "profitable = True"
      ],
      "execution_count": 0,
      "outputs": []
    },
    {
      "cell_type": "code",
      "metadata": {
        "id": "prme3oXMSXVf",
        "colab_type": "code",
        "colab": {
          "base_uri": "https://localhost:8080/",
          "height": 52
        },
        "outputId": "980cf2ec-2a05-4b7d-e8f6-2f435835946b"
      },
      "source": [
        "savings = 100\n",
        "growth_multiplier = 1.1\n",
        "desc = \"compound interest\"\n",
        "\n",
        "# Assign product of growth_multiplier and savings to year1\n",
        "year1 = savings * growth_multiplier\n",
        "\n",
        "# Print the type of year1\n",
        "# Assign sum of desc and desc to doubledesc\n",
        "# Print out doubledesc\n",
        "print(type(year1))\n",
        "doubledesc = desc + desc\n",
        "print(doubledesc)\n",
        "\n",
        "\n",
        "\n",
        "\n",
        "\n"
      ],
      "execution_count": 6,
      "outputs": [
        {
          "output_type": "stream",
          "text": [
            "<class 'float'>\n",
            "compound interestcompound interest\n"
          ],
          "name": "stdout"
        }
      ]
    },
    {
      "cell_type": "code",
      "metadata": {
        "id": "wnILTsFqSdUA",
        "colab_type": "code",
        "colab": {
          "base_uri": "https://localhost:8080/",
          "height": 35
        },
        "outputId": "8eaefada-5597-4b5b-b78e-187e8e16917b"
      },
      "source": [
        "# Definition of savings and result\n",
        "savings = 100\n",
        "result = 100 * 1.10 ** 7\n",
        "\n",
        "# Fix the printout\n",
        "print(\"I started with $\" + str(savings) + \" and now have $\" + str(result) + \". Awesome!\")\n",
        "\n",
        "# Definition of pi_string\n",
        "pi_string = \"3.1415926\"\n",
        "\n",
        "# Convert pi_string into float: pi_float\n",
        "pi_float = float(pi_string)"
      ],
      "execution_count": 7,
      "outputs": [
        {
          "output_type": "stream",
          "text": [
            "I started with $100 and now have $194.87171000000012. Awesome!\n"
          ],
          "name": "stdout"
        }
      ]
    },
    {
      "cell_type": "code",
      "metadata": {
        "id": "i9VOot-7S1qU",
        "colab_type": "code",
        "colab": {}
      },
      "source": [
        ""
      ],
      "execution_count": 0,
      "outputs": []
    }
  ]
}