{
  "nbformat": 4,
  "nbformat_minor": 0,
  "metadata": {
    "colab": {
      "name": "Numpy.ipynb",
      "provenance": []
    },
    "kernelspec": {
      "name": "python3",
      "display_name": "Python 3"
    }
  },
  "cells": [
    {
      "cell_type": "code",
      "metadata": {
        "id": "6yiwQCtsVPbD",
        "colab_type": "code",
        "colab": {
          "base_uri": "https://localhost:8080/",
          "height": 35
        },
        "outputId": "af556b9e-e44b-495f-da53-86ed9171a1bf"
      },
      "source": [
        "# Create list baseball\n",
        "baseball = [180, 215, 210, 210, 188, 176, 209, 200]\n",
        "\n",
        "# Import the numpy package as np\n",
        "import numpy as np\n",
        "\n",
        "# Create a numpy array from baseball: np_baseball\n",
        "np_baseball = np.array(baseball)\n",
        "\n",
        "# Print out type of np_baseball\n",
        "print(type(np_baseball))"
      ],
      "execution_count": 25,
      "outputs": [
        {
          "output_type": "stream",
          "text": [
            "<class 'numpy.ndarray'>\n"
          ],
          "name": "stdout"
        }
      ]
    },
    {
      "cell_type": "code",
      "metadata": {
        "id": "Gym1jp0wVSI0",
        "colab_type": "code",
        "colab": {}
      },
      "source": [
        ""
      ],
      "execution_count": 0,
      "outputs": []
    },
    {
      "cell_type": "code",
      "metadata": {
        "id": "8IupyjycVT63",
        "colab_type": "code",
        "colab": {}
      },
      "source": [
        "# height is available as a regular list\n",
        "\n",
        "# Import numpy\n",
        "import numpy as np\n",
        "\n",
        "# Create a numpy array from height_in: np_height_in\n",
        "\n",
        "np_height_in = np.array(height_in)\n",
        "# Print out np_height_in\n",
        "print(np_height_in)\n",
        "\n",
        "# Convert np_height_in to m: np_height_m\n",
        "np_height_m = np_height_in * 0.0254\n",
        "\n",
        "# Print np_height_m\n",
        "print(np_height_m)"
      ],
      "execution_count": 0,
      "outputs": []
    },
    {
      "cell_type": "code",
      "metadata": {
        "id": "DPny0NFKVfWl",
        "colab_type": "code",
        "colab": {}
      },
      "source": [
        "# height and weight are available as regular lists\n",
        "\n",
        "# Import numpy\n",
        "import numpy as np\n",
        "\n",
        "# Create array from height_in with metric units: np_height_m\n",
        "np_height_m = np.array(height_in) * 0.0254\n",
        "\n",
        "# Create array from weight_lb with metric units: np_weight_kg\n",
        "np_weight_kg = np.array(weight_lb)*0.453592\n",
        "\n",
        "# Calculate the BMI: bmi\n",
        "\n",
        "bmi = np_weight_kg/np_height_m **2\n",
        "# Print out bmi\n",
        "print(bmi)"
      ],
      "execution_count": 0,
      "outputs": []
    },
    {
      "cell_type": "code",
      "metadata": {
        "id": "ddJUUvcvVidr",
        "colab_type": "code",
        "colab": {}
      },
      "source": [
        "# height and weight are available as a regular lists\n",
        "\n",
        "# Import numpy\n",
        "import numpy as np\n",
        "\n",
        "# Calculate the BMI: bmi\n",
        "np_height_m = np.array(height_in) * 0.0254\n",
        "np_weight_kg = np.array(weight_lb) * 0.453592\n",
        "bmi = np_weight_kg / np_height_m ** 2\n",
        "\n",
        "# Create the light array\n",
        "\n",
        "light = bmi < 21\n",
        "# Print out light\n",
        "print(light)\n",
        "\n",
        "# Print out BMIs of all baseball players whose BMI is below 21\n",
        "print(bmi[light])"
      ],
      "execution_count": 0,
      "outputs": []
    },
    {
      "cell_type": "code",
      "metadata": {
        "id": "Rl4RI4ZvVkzj",
        "colab_type": "code",
        "colab": {}
      },
      "source": [
        "# height and weight are available as a regular lists\n",
        "\n",
        "# Import numpy\n",
        "import numpy as np\n",
        "\n",
        "# Store weight and height lists as numpy arrays\n",
        "np_weight_lb = np.array(weight_lb)\n",
        "np_height_in = np.array(height_in)\n",
        "\n",
        "# Print out the weight at index 50\n",
        "print(np_weight_lb[50])\n",
        "\n",
        "# Print out sub-array of np_height_in: index 100 up to and including index 110\n",
        "print(np_height_in[100:111])"
      ],
      "execution_count": 0,
      "outputs": []
    },
    {
      "cell_type": "code",
      "metadata": {
        "id": "Dqxx6EC4Vniw",
        "colab_type": "code",
        "colab": {}
      },
      "source": [
        ""
      ],
      "execution_count": 0,
      "outputs": []
    }
  ]
}