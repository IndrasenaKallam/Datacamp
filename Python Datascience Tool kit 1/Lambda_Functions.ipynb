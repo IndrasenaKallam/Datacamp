{
  "nbformat": 4,
  "nbformat_minor": 0,
  "metadata": {
    "colab": {
      "name": "Lambda Functions.ipynb",
      "provenance": []
    },
    "kernelspec": {
      "name": "python3",
      "display_name": "Python 3"
    }
  },
  "cells": [
    {
      "cell_type": "code",
      "metadata": {
        "id": "FrEzuKXgVqIN",
        "colab_type": "code",
        "colab": {}
      },
      "source": [
        "# Define echo_word as a lambda function: echo_word\n",
        "echo_word = (lambda word1,echo : word1*echo)\n",
        "\n",
        "# Call echo_word: result\n",
        "result = echo_word('hey',5)\n",
        "\n",
        "# Print result\n",
        "print(result)"
      ],
      "execution_count": 0,
      "outputs": []
    },
    {
      "cell_type": "code",
      "metadata": {
        "id": "iAs6orpBVyKM",
        "colab_type": "code",
        "colab": {}
      },
      "source": [
        "# Create a list of strings: spells\n",
        "spells = [\"protego\", \"accio\", \"expecto patronum\", \"legilimens\"]\n",
        "\n",
        "# Use map() to apply a lambda function over spells: shout_spells\n",
        "shout_spells = map(lambda item: item +\"!!!\", spells)\n",
        "\n",
        "\n",
        "# Convert shout_spells to a list: shout_spells_list\n",
        "shout_spells_list = list(shout_spells)\n",
        "\n",
        "# Print the result\n",
        "print(shout_spells_list)"
      ],
      "execution_count": 0,
      "outputs": []
    },
    {
      "cell_type": "code",
      "metadata": {
        "id": "M4-zic_hVzhK",
        "colab_type": "code",
        "colab": {}
      },
      "source": [
        "# Create a list of strings: fellowship\n",
        "fellowship = ['frodo', 'samwise', 'merry', 'pippin', 'aragorn', 'boromir', 'legolas', 'gimli', 'gandalf']\n",
        "\n",
        "# Use filter() to apply a lambda function over fellowship: result\n",
        "result = filter(lambda x: len(x)>6, fellowship)\n",
        "\n",
        "# Convert result to a list: result_list\n",
        "result_list = list(result)\n",
        "\n",
        "# Print result_list\n",
        "print(result_list)"
      ],
      "execution_count": 0,
      "outputs": []
    },
    {
      "cell_type": "code",
      "metadata": {
        "id": "rVGlBDL5V1FY",
        "colab_type": "code",
        "colab": {}
      },
      "source": [
        "# Import reduce from functools\n",
        "from functools import reduce\n",
        "\n",
        "\n",
        "# Create a list of strings: stark\n",
        "stark = ['robb', 'sansa', 'arya', 'brandon', 'rickon']\n",
        "\n",
        "# Use reduce() to apply a lambda function over stark: result\n",
        "result = reduce(lambda x,y:x+y, stark)\n",
        "\n",
        "# Print the result\n",
        "print(result)"
      ],
      "execution_count": 0,
      "outputs": []
    },
    {
      "cell_type": "markdown",
      "metadata": {
        "id": "drJEta2FV20h",
        "colab_type": "text"
      },
      "source": [
        "# Introduction to Error Handling"
      ]
    },
    {
      "cell_type": "code",
      "metadata": {
        "id": "RURzRMizV_zJ",
        "colab_type": "code",
        "colab": {}
      },
      "source": [
        "# Define shout_echo\n",
        "def shout_echo(word1, echo=1):\n",
        "    \"\"\"Concatenate echo copies of word1 and three\n",
        "    exclamation marks at the end of the string.\"\"\"\n",
        "\n",
        "    # Initialize empty strings: echo_word, shout_words\n",
        "    echo_word = ''\n",
        "    shout_words = ''\n",
        "    \n",
        "    \n",
        "\n",
        "    # Add exception handling with try-except\n",
        "    try:\n",
        "        # Concatenate echo copies of word1 using *: echo_word\n",
        "        echo_word = word1 * echo\n",
        "\n",
        "        # Concatenate '!!!' to echo_word: shout_words\n",
        "        shout_words = echo_word + \"!!!\" \n",
        "    except:\n",
        "        # Print error message\n",
        "        print(\"word1 must be a string and echo must be an integer.\")\n",
        "\n",
        "    # Return shout_words\n",
        "    return shout_words\n",
        "\n",
        "# Call shout_echo\n",
        "shout_echo(\"particle\", echo=\"accelerator\")"
      ],
      "execution_count": 0,
      "outputs": []
    },
    {
      "cell_type": "code",
      "metadata": {
        "id": "24tuuErmWBcR",
        "colab_type": "code",
        "colab": {}
      },
      "source": [
        "# Define shout_echo\n",
        "def shout_echo(word1, echo=1):\n",
        "    \"\"\"Concatenate echo copies of word1 and three\n",
        "    exclamation marks at the end of the string.\"\"\"\n",
        "\n",
        "    # Raise an error with raise\n",
        "    if echo < 0:\n",
        "        raise ValueError('echo must be greater than or equal to 0')\n",
        "\n",
        "    # Concatenate echo copies of word1 using *: echo_word\n",
        "    echo_word = word1 * echo\n",
        "\n",
        "    # Concatenate '!!!' to echo_word: shout_word\n",
        "    shout_word = echo_word + '!!!'\n",
        "\n",
        "    # Return shout_word\n",
        "    return shout_word\n",
        "\n",
        "# Call shout_echo\n",
        "shout_echo(\"particle\", echo=5)"
      ],
      "execution_count": 0,
      "outputs": []
    },
    {
      "cell_type": "code",
      "metadata": {
        "id": "_RKCPC1pWHSt",
        "colab_type": "code",
        "colab": {}
      },
      "source": [
        "# Select retweets from the Twitter DataFrame: result\n",
        "result = filter(lambda x: x[0:2]=='RT', tweets_df['text'])\n",
        "\n",
        "# Create list from filter object result: res_list\n",
        "res_list = list(result)\n",
        "\n",
        "# Print all retweets in res_list\n",
        "for tweet in res_list:\n",
        "    print(tweet)"
      ],
      "execution_count": 0,
      "outputs": []
    },
    {
      "cell_type": "code",
      "metadata": {
        "id": "rsJYEe_oWJrR",
        "colab_type": "code",
        "colab": {}
      },
      "source": [
        "# Define count_entries()\n",
        "def count_entries(df, col_name='lang'):\n",
        "    \"\"\"Return a dictionary with counts of\n",
        "    occurrences as value for each key.\"\"\"\n",
        "\n",
        "    # Initialize an empty dictionary: cols_count\n",
        "    cols_count = {}\n",
        "\n",
        "    # Add try block\n",
        "    try:\n",
        "        # Extract column from DataFrame: col\n",
        "        col = df[col_name]\n",
        "        \n",
        "        # Iterate over the column in dataframe\n",
        "        for entry in col:\n",
        "    \n",
        "            # If entry is in cols_count, add 1\n",
        "            if entry in cols_count.keys():\n",
        "                cols_count[entry] += 1\n",
        "            # Else add the entry to cols_count, set the value to 1\n",
        "            else:\n",
        "                cols_count[entry] = 1\n",
        "    \n",
        "        # Return the cols_count dictionary\n",
        "        return cols_count\n",
        "\n",
        "    # Add except block\n",
        "    except:\n",
        "        print('The DataFrame does not have a '+ col_name + 'column')\n",
        "\n",
        "# Call count_entries(): result1\n",
        "result1 = count_entries(tweets_df, 'lang')\n",
        "\n",
        "# Print result1\n",
        "print(result1)"
      ],
      "execution_count": 0,
      "outputs": []
    },
    {
      "cell_type": "code",
      "metadata": {
        "id": "3d4CxxdcWK-J",
        "colab_type": "code",
        "colab": {}
      },
      "source": [
        "# Define count_entries()\n",
        "def count_entries(df, col_name='lang'):\n",
        "    \"\"\"Return a dictionary with counts of\n",
        "    occurrences as value for each key.\"\"\"\n",
        "    \n",
        "    # Raise a ValueError if col_name is NOT in DataFrame\n",
        "    if col_name not in df.columns:\n",
        "        ____\n",
        "\n",
        "    # Initialize an empty dictionary: cols_count\n",
        "    cols_count = {}\n",
        "    \n",
        "    # Extract column from DataFrame: col\n",
        "    col = df[col_name]\n",
        "    \n",
        "    # Iterate over the column in DataFrame\n",
        "    for entry in col:\n",
        "\n",
        "        # If entry is in cols_count, add 1\n",
        "        if entry in cols_count.keys():\n",
        "            cols_count[entry] += 1\n",
        "            # Else add the entry to cols_count, set the value to 1\n",
        "        else:\n",
        "            cols_count[entry] = 1\n",
        "        \n",
        "        # Return the cols_count dictionary\n",
        "    return cols_count\n",
        "\n",
        "# Call count_entries(): result1\n",
        "____\n",
        "\n",
        "# Print result1\n",
        "print(result1)"
      ],
      "execution_count": 0,
      "outputs": []
    },
    {
      "cell_type": "code",
      "metadata": {
        "id": "0BL9OWBeWNHC",
        "colab_type": "code",
        "colab": {}
      },
      "source": [
        ""
      ],
      "execution_count": 0,
      "outputs": []
    }
  ]
}