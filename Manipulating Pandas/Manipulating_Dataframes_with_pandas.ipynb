{
  "nbformat": 4,
  "nbformat_minor": 0,
  "metadata": {
    "colab": {
      "name": "Manipulating Dataframes with pandas.ipynb",
      "provenance": []
    },
    "kernelspec": {
      "name": "python3",
      "display_name": "Python 3"
    }
  },
  "cells": [
    {
      "cell_type": "code",
      "metadata": {
        "id": "55pEWGdRc0OM",
        "colab_type": "code",
        "colab": {}
      },
      "source": [
        "# Assign the row position of election.loc['Bedford']: x\n",
        "x = 4\n",
        "\n",
        "# Assign the column position of election['winner']: y\n",
        "y = 4\n",
        "\n",
        "# Print the boolean equivalence\n",
        "print(election.iloc[x, y] == election.loc['Bedford', 'winner'])"
      ],
      "execution_count": 0,
      "outputs": []
    },
    {
      "cell_type": "code",
      "metadata": {
        "id": "dBiyNtXXc27W",
        "colab_type": "code",
        "colab": {}
      },
      "source": [
        "# Import pandas\n",
        "import pandas as pd \n",
        "\n",
        "# Read in filename and set the index: election\n",
        "election = pd.read_csv(filename, index_col ='county')\n",
        "\n",
        "# Create a separate dataframe with the columns ['winner', 'total', 'voters']: results\n",
        "results = election[['winner', 'total', 'voters']]\n",
        "\n",
        "# Print the output of results.head()\n",
        "print(results.head())"
      ],
      "execution_count": 0,
      "outputs": []
    },
    {
      "cell_type": "code",
      "metadata": {
        "id": "6z7MoIZec4XK",
        "colab_type": "code",
        "colab": {}
      },
      "source": [
        "# slicing data frames\n",
        "\n",
        "\n",
        "# Slice the row labels 'Perry' to 'Potter': p_counties\n",
        "p_counties = election.loc['Perry':'Potter']\n",
        "\n",
        "# Print the p_counties DataFrame\n",
        "print(p_counties)\n",
        "\n",
        "# Slice the row labels 'Potter' to 'Perry' in reverse order: p_counties_rev\n",
        "p_counties_rev = election.loc['Potter':'Perry':-1]\n",
        "\n",
        "# Print the p_counties_rev DataFrame\n",
        "print(p_counties_rev)"
      ],
      "execution_count": 0,
      "outputs": []
    },
    {
      "cell_type": "code",
      "metadata": {
        "id": "9fAdWRlyc9ju",
        "colab_type": "code",
        "colab": {}
      },
      "source": [
        "# Slice the columns from the starting column to 'Obama': left_columns\n",
        "left_columns = election.loc[:,:'Obama']\n",
        "\n",
        "# Print the output of left_columns.head()\n",
        "print(left_columns.head())\n",
        "\n",
        "# Slice the columns from 'Obama' to 'winner': middle_columns\n",
        "middle_columns = election.loc[:,'Obama':'winner']\n",
        "\n",
        "# Print the output of middle_columns.head()\n",
        "print(middle_columns.head())\n",
        "\n",
        "# Slice the columns from 'Romney' to the end: 'right_columns'\n",
        "right_columns = election.loc[:,'Romney':]\n",
        "\n",
        "# Print the output of right_columns.head()\n",
        "print(right_columns.head())"
      ],
      "execution_count": 0,
      "outputs": []
    },
    {
      "cell_type": "code",
      "metadata": {
        "id": "o7nqA67Mc-6K",
        "colab_type": "code",
        "colab": {}
      },
      "source": [
        "# Create the list of row labels: rows\n",
        "rows = ['Philadelphia', 'Centre', 'Fulton']\n",
        "\n",
        "# Create the list of column labels: cols\n",
        "cols = ['winner','Obama','Romney']\n",
        "\n",
        "# Create the new DataFrame: three_counties\n",
        "three_counties = election.loc[rows,cols]\n",
        "# Print the three_counties DataFrame\n",
        "print(three_counties)"
      ],
      "execution_count": 0,
      "outputs": []
    },
    {
      "cell_type": "code",
      "metadata": {
        "id": "eTPkxuqLdAPO",
        "colab_type": "code",
        "colab": {}
      },
      "source": [
        ""
      ],
      "execution_count": 0,
      "outputs": []
    },
    {
      "cell_type": "markdown",
      "metadata": {
        "id": "20SN8gIEdCke",
        "colab_type": "text"
      },
      "source": [
        "# Filtering Data Frames"
      ]
    },
    {
      "cell_type": "code",
      "metadata": {
        "id": "H4E7S4CJdFJn",
        "colab_type": "code",
        "colab": {}
      },
      "source": [
        "# Create the boolean array: high_turnout\n",
        "high_turnout = election['turnout'] > 70\n",
        "\n",
        "# Filter the election DataFrame with the high_turnout array: high_turnout_df\n",
        "high_turnout_df = election[high_turnout]\n",
        "\n",
        "# Print the high_turnout_results DataFrame\n",
        "print(high_turnout_df)"
      ],
      "execution_count": 0,
      "outputs": []
    },
    {
      "cell_type": "code",
      "metadata": {
        "id": "_n__nVHUdGTT",
        "colab_type": "code",
        "colab": {}
      },
      "source": [
        "# Import numpy\n",
        "import numpy as np \n",
        "\n",
        "# Create the boolean array: too_close\n",
        "too_close = election.margin < 1\n",
        "\n",
        "# Assign np.nan to the 'winner' column where the results were too close to call\n",
        "election[too_close] = np.nan\n",
        "\n",
        "# Print the output of election.info()\n",
        "print(election.info())\n"
      ],
      "execution_count": 0,
      "outputs": []
    },
    {
      "cell_type": "code",
      "metadata": {
        "id": "YI8zKEBZdHea",
        "colab_type": "code",
        "colab": {}
      },
      "source": [
        "# Select the 'age' and 'cabin' columns: df\n",
        "df = titanic[['age','cabin']]\n",
        "\n",
        "# Print the shape of df\n",
        "print(df.shape)\n",
        "\n",
        "# Drop rows in df with how='any' and print the shape\n",
        "print(df.dropna(how='any').shape)\n",
        "\n",
        "# Drop rows in df with how='all' and print the shape\n",
        "print(df.dropna(how='all').shape)\n",
        "\n",
        "# Drop columns in titanic with less than 1000 non-missing values\n",
        "print(titanic.dropna(thresh = 1000, axis = 'columns').info())"
      ],
      "execution_count": 0,
      "outputs": []
    },
    {
      "cell_type": "markdown",
      "metadata": {
        "id": "4ISEA-RGdKh2",
        "colab_type": "text"
      },
      "source": [
        "# Transforming DataFrames"
      ]
    },
    {
      "cell_type": "code",
      "metadata": {
        "id": "kOsm9LINdIl3",
        "colab_type": "code",
        "colab": {}
      },
      "source": [
        "# Write a function to convert degrees Fahrenheit to degrees Celsius: to_celsius\n",
        "def to_celsius(F):\n",
        "    return 5/9*(F - 32)\n",
        "\n",
        "# Apply the function over 'Mean TemperatureF' and 'Mean Dew PointF': df_celsius\n",
        "df_celsius = weather[['Mean TemperatureF','Mean Dew PointF']].apply(to_celsius)\n",
        "\n",
        "# Reassign the column labels of df_celsius\n",
        "df_celsius.columns = ['Mean TemperatureC', 'Mean Dew PointC']\n",
        "\n",
        "# Print the output of df_celsius.head()\n",
        "print(df_celsius.head())"
      ],
      "execution_count": 0,
      "outputs": []
    },
    {
      "cell_type": "code",
      "metadata": {
        "id": "_VFFr4JYdPI_",
        "colab_type": "code",
        "colab": {}
      },
      "source": [
        "# Create the dictionary: red_vs_blue\n",
        "red_vs_blue = {'Obama':'blue','Romney':'red'}\n",
        "\n",
        "# Use the dictionary to map the 'winner' column to the new column: election['color']\n",
        "election['color'] = election['winner'].map(red_vs_blue)\n",
        "\n",
        "# Print the output of election.head()\n",
        "print(election.head())"
      ],
      "execution_count": 0,
      "outputs": []
    },
    {
      "cell_type": "code",
      "metadata": {
        "id": "1RrpvvQ0dQyz",
        "colab_type": "code",
        "colab": {}
      },
      "source": [
        "# Import zscore from scipy.stats\n",
        "from scipy.stats import zscore\n",
        "\n",
        "# Call zscore with election['turnout'] as input: turnout_zscore\n",
        "turnout_zscore = zscore(election['turnout'])\n",
        "\n",
        "# Print the type of turnout_zscore\n",
        "print(type(turnout_zscore))\n",
        "\n",
        "# Assign turnout_zscore to a new column: election['turnout_zscore']\n",
        "election['turnout_zscore'] = turnout_zscore\n",
        "\n",
        "# Print the output of election.head()\n",
        "print(election.head())"
      ],
      "execution_count": 0,
      "outputs": []
    },
    {
      "cell_type": "markdown",
      "metadata": {
        "id": "qmNADlG8dVBW",
        "colab_type": "text"
      },
      "source": [
        "# Index Values and Names"
      ]
    },
    {
      "cell_type": "code",
      "metadata": {
        "id": "vzEvcMoOdSDU",
        "colab_type": "code",
        "colab": {}
      },
      "source": [
        "# Create the list of new indexes: new_idx\n",
        "new_idx = [month.upper() for month in sales.index]\n",
        "\n",
        "# Assign new_idx to sales.index\n",
        "sales.index = new_idx\n",
        "\n",
        "# Print the sales DataFrame\n",
        "print(sales)"
      ],
      "execution_count": 0,
      "outputs": []
    },
    {
      "cell_type": "code",
      "metadata": {
        "id": "kZjRNMjZdc3X",
        "colab_type": "code",
        "colab": {}
      },
      "source": [
        "# Assign the string 'MONTHS' to sales.index.name\n",
        "sales.index.name = 'MONTHS'\n",
        "# Print the sales DataFrame\n",
        "print(sales)\n",
        "\n",
        "# Assign the string 'PRODUCTS' to sales.columns.name \n",
        "sales.columns.name = 'PRODUCTS'\n",
        "\n",
        "# Print the sales dataframe again\n",
        "print(sales)"
      ],
      "execution_count": 0,
      "outputs": []
    },
    {
      "cell_type": "code",
      "metadata": {
        "id": "uChZ2rpYddQs",
        "colab_type": "code",
        "colab": {}
      },
      "source": [
        "# Generate the list of months: months\n",
        "months = ['Jan', 'Feb', 'Mar', 'Apr', 'May', 'Jun']\n",
        "\n",
        "# Assign months to sales.index\n",
        "sales.index = months\n",
        "\n",
        "# Print the modified sales DataFrame\n",
        "print(sales)"
      ],
      "execution_count": 0,
      "outputs": []
    },
    {
      "cell_type": "markdown",
      "metadata": {
        "id": "IQwQbHoadhKP",
        "colab_type": "text"
      },
      "source": [
        "# Hierarchical Indexing "
      ]
    },
    {
      "cell_type": "code",
      "metadata": {
        "id": "b7X_4oTKdepY",
        "colab_type": "code",
        "colab": {}
      },
      "source": [
        "# Print sales.loc[['CA', 'TX']]\n",
        "print(sales.loc[['CA','TX']])\n",
        "\n",
        "# Print sales['CA':'TX']\n",
        "print(sales['CA':'TX'])"
      ],
      "execution_count": 0,
      "outputs": []
    },
    {
      "cell_type": "code",
      "metadata": {
        "id": "3SDt1o-Idnvf",
        "colab_type": "code",
        "colab": {}
      },
      "source": [
        "# Set the index to be the columns ['state', 'month']: sales\n",
        "sales = sales.set_index(['state', 'month'])\n",
        "\n",
        "# Sort the MultiIndex: sales\n",
        "sales = sales.sort_index()\n",
        "\n",
        "# Print the sales DataFrame\n",
        "print(sales)"
      ],
      "execution_count": 0,
      "outputs": []
    },
    {
      "cell_type": "code",
      "metadata": {
        "id": "WO9GmPcudp_7",
        "colab_type": "code",
        "colab": {}
      },
      "source": [
        "# Set the index to the column 'state': sales\n",
        "sales = sales.set_index(['state'])\n",
        "\n",
        "# Print the sales DataFrame\n",
        "print(sales)\n",
        "\n",
        "# Access the data from 'NY'\n",
        "print(sales.loc['NY'])"
      ],
      "execution_count": 0,
      "outputs": []
    },
    {
      "cell_type": "code",
      "metadata": {
        "id": "-DsLvOhGdscD",
        "colab_type": "code",
        "colab": {}
      },
      "source": [
        "# Look up data for NY in month 1 in sales: NY_month1\n",
        "NY_month1 = sales.loc[('NY', 1), :]\n",
        "\n",
        "# Look up data for CA and TX in month 2: CA_TX_month2\n",
        "CA_TX_month2 = sales.loc[(['CA', 'TX'], 2), :]\n",
        "\n",
        "# Look up data for all states in month 2: all_month2\n",
        "all_month2 = sales.loc[(slice(None), 2), :]"
      ],
      "execution_count": 0,
      "outputs": []
    },
    {
      "cell_type": "markdown",
      "metadata": {
        "id": "-ZK8lOzHdxwh",
        "colab_type": "text"
      },
      "source": [
        "# Pivoting Data Frames"
      ]
    },
    {
      "cell_type": "code",
      "metadata": {
        "id": "dnbCZdMKdvDD",
        "colab_type": "code",
        "colab": {}
      },
      "source": [
        "# Pivot the users DataFrame: visitors_pivot\n",
        "visitors_pivot = users.pivot(index='weekday',columns='city',values='visitors')\n",
        "\n",
        "# Print the pivoted DataFrame\n",
        "print(visitors_pivot)"
      ],
      "execution_count": 0,
      "outputs": []
    },
    {
      "cell_type": "code",
      "metadata": {
        "id": "qegw_RT3d24_",
        "colab_type": "code",
        "colab": {}
      },
      "source": [
        "# Pivot users with signups indexed by weekday and city: signups_pivot\n",
        "signups_pivot = users.pivot(index='weekday',columns='city',values='signups')\n",
        "\n",
        "# Print signups_pivot\n",
        "print(signups_pivot)\n",
        "\n",
        "# Pivot users pivoted by both signups and visitors: pivot\n",
        "pivot = users.pivot(index='weekday',columns='city')\n",
        "\n",
        "# Print the pivoted DataFrame\n",
        "print(pivot)"
      ],
      "execution_count": 0,
      "outputs": []
    },
    {
      "cell_type": "markdown",
      "metadata": {
        "id": "daWgTqdAd8XK",
        "colab_type": "text"
      },
      "source": [
        "# Stacking and Unstacking DataFrame"
      ]
    },
    {
      "cell_type": "code",
      "metadata": {
        "id": "qtFeOCwtd7tq",
        "colab_type": "code",
        "colab": {}
      },
      "source": [
        "# Unstack users by 'weekday': byweekday\n",
        "byweekday = users.unstack(level = 'weekday')\n",
        "\n",
        "# Print the byweekday DataFrame\n",
        "print(byweekday)\n",
        "\n",
        "# Stack byweekday by 'weekday' and print it\n",
        "print(byweekday.stack(level = 'weekday'))\n"
      ],
      "execution_count": 0,
      "outputs": []
    },
    {
      "cell_type": "code",
      "metadata": {
        "id": "rLoxGJvAd4xU",
        "colab_type": "code",
        "colab": {}
      },
      "source": [
        "# Unstack users by 'city': bycity\n",
        "bycity = users.unstack(level='city')\n",
        "\n",
        "# Print the bycity DataFrame\n",
        "print(bycity)\n",
        "\n",
        "# Stack bycity by 'city' and print it\n",
        "print(bycity.stack(level='city'))"
      ],
      "execution_count": 0,
      "outputs": []
    },
    {
      "cell_type": "code",
      "metadata": {
        "id": "8tWK45XoeDwg",
        "colab_type": "code",
        "colab": {}
      },
      "source": [
        "# Stack 'city' back into the index of bycity: newusers\n",
        "newusers = bycity.stack(level = 'city')\n",
        "\n",
        "# Swap the levels of the index of newusers: newusers\n",
        "newusers = newusers.swaplevel(0,1)\n",
        "\n",
        "# Print newusers and verify that the index is not sorted\n",
        "print(newusers)\n",
        "\n",
        "# Sort the index of newusers: newusers\n",
        "newusers = newusers.sort_index()\n",
        "\n",
        "# Print newusers and verify that the index is now sorted\n",
        "print(newusers)\n",
        "\n",
        "# Verify that the new DataFrame is equal to the original\n",
        "print(newusers.equals(users))"
      ],
      "execution_count": 0,
      "outputs": []
    },
    {
      "cell_type": "markdown",
      "metadata": {
        "id": "1u5NOlwjeHR_",
        "colab_type": "text"
      },
      "source": [
        "# Melting DataFrames"
      ]
    },
    {
      "cell_type": "code",
      "metadata": {
        "id": "IT2UOi2UeFQF",
        "colab_type": "code",
        "colab": {}
      },
      "source": [
        "# Reset the index: visitors_by_city_weekday\n",
        "visitors_by_city_weekday = visitors_by_city_weekday.reset_index()\n",
        "\n",
        "# Print visitors_by_city_weekday\n",
        "print(visitors_by_city_weekday)\n",
        "\n",
        "# Melt visitors_by_city_weekday: visitors\n",
        "visitors = pd.melt(visitors_by_city_weekday, id_vars = ['weekday'], value_name= 'visitors')\n",
        "\n",
        "# Print visitors\n",
        "print(visitors)"
      ],
      "execution_count": 0,
      "outputs": []
    },
    {
      "cell_type": "code",
      "metadata": {
        "id": "cWDQcXrbeLec",
        "colab_type": "code",
        "colab": {}
      },
      "source": [
        "# Melt users: skinny\n",
        "skinny =pd.melt(users,id_vars=['weekday','city'],value_vars=['visitors','signups'])\n",
        "\n",
        "# Print skinny\n",
        "print(skinny)"
      ],
      "execution_count": 0,
      "outputs": []
    },
    {
      "cell_type": "code",
      "metadata": {
        "id": "ZiNArKCceMyQ",
        "colab_type": "code",
        "colab": {}
      },
      "source": [
        "# Set the new index: users_idx\n",
        "users_idx = users.set_index(['city', 'weekday'])\n",
        "\n",
        "# Print the users_idx DataFrame\n",
        "print(users_idx)\n",
        "\n",
        "# Obtain the key-value pairs: kv_pairs\n",
        "kv_pairs = pd.melt(users_idx, col_level=0)\n",
        "\n",
        "# Print the key-value pairs\n",
        "print(kv_pairs)"
      ],
      "execution_count": 0,
      "outputs": []
    },
    {
      "cell_type": "markdown",
      "metadata": {
        "id": "WqoolNAveSaJ",
        "colab_type": "text"
      },
      "source": [
        "# Pivot Tables"
      ]
    },
    {
      "cell_type": "code",
      "metadata": {
        "id": "WwRDXt6fePNA",
        "colab_type": "code",
        "colab": {}
      },
      "source": [
        "# Create the DataFrame with the appropriate pivot table: by_city_day\n",
        "by_city_day = users.pivot_table(index ='weekday',columns='city')\n",
        "\n",
        "# Print by_city_day\n",
        "print(by_city_day)"
      ],
      "execution_count": 0,
      "outputs": []
    },
    {
      "cell_type": "code",
      "metadata": {
        "id": "fv-N4pqJeXHl",
        "colab_type": "code",
        "colab": {}
      },
      "source": [
        "# Use a pivot table to display the count of each column: count_by_weekday1\n",
        "count_by_weekday1 = users.pivot_table(index='weekday', aggfunc='count')\n",
        "\n",
        "# Print count_by_weekday\n",
        "print(count_by_weekday1)\n",
        "\n",
        "# Replace 'aggfunc='count'' with 'aggfunc=len': count_by_weekday2\n",
        "count_by_weekday2 = users.pivot_table(index='weekday', aggfunc=len)\n",
        "\n",
        "# Verify that the same result is obtained\n",
        "print('==========================================')\n",
        "print(count_by_weekday1.equals(count_by_weekday2))"
      ],
      "execution_count": 0,
      "outputs": []
    },
    {
      "cell_type": "code",
      "metadata": {
        "id": "q4GOdlw9eZDT",
        "colab_type": "code",
        "colab": {}
      },
      "source": [
        "# Create the DataFrame with the appropriate pivot table: signups_and_visitors\n",
        "signups_and_visitors = users.pivot_table(index='weekday', aggfunc=sum)\n",
        "\n",
        "# Print signups_and_visitors\n",
        "print(signups_and_visitors)\n",
        "\n",
        "# Add in the margins: signups_and_visitors_total \n",
        "signups_and_visitors_total = users.pivot_table(index='weekday', aggfunc=sum, margins=True)\n",
        "\n",
        "# Print signups_and_visitors_total\n",
        "print(signups_and_visitors_total)"
      ],
      "execution_count": 0,
      "outputs": []
    },
    {
      "cell_type": "markdown",
      "metadata": {
        "id": "hzD1Q72nedol",
        "colab_type": "text"
      },
      "source": [
        "# Categorical and Groupby"
      ]
    },
    {
      "cell_type": "code",
      "metadata": {
        "id": "tg7IrBOzebUk",
        "colab_type": "code",
        "colab": {}
      },
      "source": [
        "# Group titanic by 'pclass'\n",
        "by_class = titanic.groupby('pclass')\n",
        "\n",
        "# Aggregate 'survived' column of by_class by count\n",
        "count_by_class = by_class['survived'].count()\n",
        "\n",
        "# Print count_by_class\n",
        "print(count_by_class)\n",
        "\n",
        "# Group titanic by 'embarked' and 'pclass'\n",
        "by_mult = titanic.groupby(['embarked','pclass'])\n",
        "\n",
        "# Aggregate 'survived' column of by_mult by count\n",
        "count_mult = by_mult['survived'].count()\n",
        "\n",
        "# Print count_mult\n",
        "print(count_mult)"
      ],
      "execution_count": 0,
      "outputs": []
    },
    {
      "cell_type": "code",
      "metadata": {
        "id": "YbVUCeM3ejF8",
        "colab_type": "code",
        "colab": {}
      },
      "source": [
        "# Read life_fname into a DataFrame: life\n",
        "life = pd.read_csv(life_fname, index_col='Country')\n",
        "\n",
        "# Read regions_fname into a DataFrame: regions\n",
        "regions = pd.read_csv(regions_fname,index_col='Country')\n",
        "\n",
        "# Group life by regions['region']: life_by_region\n",
        "life_by_region = life.groupby(regions['region'])\n",
        "\n",
        "# Print the mean over the '2010' column of life_by_region\n",
        "print(life_by_region['2010'].mean())"
      ],
      "execution_count": 0,
      "outputs": []
    },
    {
      "cell_type": "markdown",
      "metadata": {
        "id": "a9M_x2odemZ-",
        "colab_type": "text"
      },
      "source": [
        "# Groupby and aggregation"
      ]
    },
    {
      "cell_type": "code",
      "metadata": {
        "id": "W2huBsn0ekR2",
        "colab_type": "code",
        "colab": {}
      },
      "source": [
        "# Group titanic by 'pclass': by_class\n",
        "by_class = titanic.groupby('pclass')\n",
        "\n",
        "# Select 'age' and 'fare'\n",
        "by_class_sub = by_class[['age','fare']]\n",
        "\n",
        "# Aggregate by_class_sub by 'max' and 'median': aggregated\n",
        "aggregated = by_class_sub.agg(['max','median'])\n",
        "\n",
        "# Print the maximum age in each class\n",
        "print(aggregated.loc[:, ('age','max')])\n",
        "\n",
        "# Print the median fare in each class\n",
        "print(aggregated.loc[:,('fare','median')])"
      ],
      "execution_count": 0,
      "outputs": []
    },
    {
      "cell_type": "code",
      "metadata": {
        "id": "TokULv8IesQA",
        "colab_type": "code",
        "colab": {}
      },
      "source": [
        "# Read the CSV file into a DataFrame and sort the index: gapminder\n",
        "gapminder = pd.read_csv('gapminder.csv',index_col=['Year','region','Country']).sort_index()\n",
        "\n",
        "# Group gapminder by 'Year' and 'region': by_year_region\n",
        "by_year_region = gapminder.groupby(level=['Year','region'])\n",
        "\n",
        "# Define the function to compute spread: spread\n",
        "def spread(series):\n",
        "    return series.max() - series.min()\n",
        "\n",
        "# Create the dictionary: aggregator\n",
        "aggregator = {'population':'sum', 'child_mortality':'mean', 'gdp':spread}\n",
        "\n",
        "# Aggregate by_year_region using the dictionary: aggregated\n",
        "aggregated = by_year_region.agg(aggregator)\n",
        "\n",
        "# Print the last 6 entries of aggregated \n",
        "print(aggregated.tail(6))"
      ],
      "execution_count": 0,
      "outputs": []
    },
    {
      "cell_type": "code",
      "metadata": {
        "id": "mpmkxhKKetcq",
        "colab_type": "code",
        "colab": {}
      },
      "source": [
        "# Read file: sales\n",
        "sales = pd.read_csv('sales.csv',index_col='Date',parse_dates=True)\n",
        "\n",
        "# Create a groupby object: by_day\n",
        "by_day = sales.groupby(sales.index.strftime('%a'))\n",
        "\n",
        "# Create sum: units_sum\n",
        "units_sum = by_day['Units'].sum()\n",
        "\n",
        "# Print units_sum\n",
        "print(units_sum)"
      ],
      "execution_count": 0,
      "outputs": []
    },
    {
      "cell_type": "code",
      "metadata": {
        "id": "wxt_Utrgeur9",
        "colab_type": "code",
        "colab": {}
      },
      "source": [
        "# Import zscore\n",
        "from scipy.stats import zscore\n",
        "\n",
        "# Group gapminder_2010: standardized\n",
        "standardized = gapminder_2010.groupby('region')['life','fertility'].transform(zscore)\n",
        "\n",
        "# Construct a Boolean Series to identify outliers: outliers\n",
        "outliers = (standardized['life'] < -3) | (standardized['fertility'] > 3)\n",
        "\n",
        "# Filter gapminder_2010 by the outliers: gm_outliers\n",
        "gm_outliers = gapminder_2010.loc[outliers]\n",
        "\n",
        "# Print gm_outliers\n",
        "print(gm_outliers)"
      ],
      "execution_count": 0,
      "outputs": []
    },
    {
      "cell_type": "code",
      "metadata": {
        "id": "FIkvcUzcezuU",
        "colab_type": "code",
        "colab": {}
      },
      "source": [
        "# Create a groupby object: by_sex_class\n",
        "by_sex_class = titanic.groupby(['sex','pclass'])\n",
        "\n",
        "# Write a function that imputes median\n",
        "def impute_median(series):\n",
        "    return series.fillna(series.median())\n",
        "\n",
        "# Impute age and assign to titanic['age']\n",
        "titanic.age = by_sex_class['age'].transform(impute_median)\n",
        "\n",
        "# Print the output of titanic.tail(10)\n",
        "print(titanic.tail(10))"
      ],
      "execution_count": 0,
      "outputs": []
    },
    {
      "cell_type": "code",
      "metadata": {
        "id": "c4QwU_EYe1H5",
        "colab_type": "code",
        "colab": {}
      },
      "source": [
        "# Group gapminder_2010 by 'region': regional\n",
        "regional = gapminder_2010.groupby('region')\n",
        "\n",
        "# Apply the disparity function on regional: reg_disp\n",
        "reg_disp = regional.apply(disparity)\n",
        "\n",
        "# Print the disparity of 'United States', 'United Kingdom', and 'China'\n",
        "print(reg_disp.loc[['United States','United Kingdom','China']])"
      ],
      "execution_count": 0,
      "outputs": []
    },
    {
      "cell_type": "markdown",
      "metadata": {
        "id": "P2s1fG2we5Yy",
        "colab_type": "text"
      },
      "source": [
        "# Filtering\n"
      ]
    },
    {
      "cell_type": "code",
      "metadata": {
        "id": "WGpfRKxJe3jA",
        "colab_type": "code",
        "colab": {}
      },
      "source": [
        "# Create a groupby object using titanic over the 'sex' column: by_sex\n",
        "by_sex = titanic.groupby('sex')\n",
        "\n",
        "# Call by_sex.apply with the function c_deck_survival\n",
        "c_surv_by_sex = by_sex.apply(c_deck_survival)\n",
        "\n",
        "# Print the survival rates\n",
        "print(c_surv_by_sex)"
      ],
      "execution_count": 0,
      "outputs": []
    },
    {
      "cell_type": "code",
      "metadata": {
        "id": "144TalFWe9-h",
        "colab_type": "code",
        "colab": {}
      },
      "source": [
        "# Read the CSV file into a DataFrame: sales\n",
        "sales = pd.read_csv('sales.csv', index_col='Date', parse_dates=True)\n",
        "\n",
        "# Group sales by 'Company': by_company\n",
        "by_company = sales.groupby('Company')\n",
        "\n",
        "# Compute the sum of the 'Units' of by_company: by_com_sum\n",
        "by_com_sum = by_company['Units'].sum()\n",
        "print(by_com_sum)\n",
        "\n",
        "# Filter 'Units' where the sum is > 35: by_com_filt\n",
        "by_com_filt = by_company.filter(lambda x  : x['Units'].sum()>35)\n",
        "print(by_com_filt)"
      ],
      "execution_count": 0,
      "outputs": []
    },
    {
      "cell_type": "code",
      "metadata": {
        "id": "1OKU_yN1e_b6",
        "colab_type": "code",
        "colab": {}
      },
      "source": [
        "# Create the Boolean Series: under10\n",
        "under10 = (titanic['age'] < 10).map({True:'under 10', False:'over 10'})\n",
        "\n",
        "# Group by under10 and compute the survival rate\n",
        "survived_mean_1 = titanic.groupby(under10)['survived'].mean()\n",
        "print(survived_mean_1)\n",
        "\n",
        "# Group by under10 and pclass and compute the survival rate\n",
        "survived_mean_2 = titanic.groupby([under10, 'pclass'])['survived'].mean()\n",
        "print(survived_mean_2)"
      ],
      "execution_count": 0,
      "outputs": []
    },
    {
      "cell_type": "markdown",
      "metadata": {
        "id": "pLFqDpkafEc1",
        "colab_type": "text"
      },
      "source": [
        "# Case Study"
      ]
    },
    {
      "cell_type": "code",
      "metadata": {
        "id": "V7bDiU7VfBp2",
        "colab_type": "code",
        "colab": {}
      },
      "source": [
        "# Select the 'NOC' column of medals: country_names\n",
        "country_names = medals.NOC\n",
        "\n",
        "# Count the number of medals won by each country: medal_counts\n",
        "medal_counts = country_names.value_counts()\n",
        "\n",
        "# Print top 15 countries ranked by medals\n",
        "print(medal_counts.head(15))"
      ],
      "execution_count": 0,
      "outputs": []
    },
    {
      "cell_type": "code",
      "metadata": {
        "id": "zCXKIBXKfJUC",
        "colab_type": "code",
        "colab": {}
      },
      "source": [
        "# Construct the pivot table: counted\n",
        "counted = medals.pivot_table(index='NOC',columns='Medal',values='Athlete', aggfunc='count')\n",
        "\n",
        "# Create the new column: counted['totals']\n",
        "counted['totals'] = counted.sum(axis='columns')\n",
        "\n",
        "# Sort counted by the 'totals' column\n",
        "counted = counted.sort_values('totals', ascending=False)\n",
        "\n",
        "# Print the top 15 rows of counted\n",
        "print(counted.head(15))"
      ],
      "execution_count": 0,
      "outputs": []
    },
    {
      "cell_type": "markdown",
      "metadata": {
        "id": "3LO23OB9fND6",
        "colab_type": "text"
      },
      "source": [
        "# labels"
      ]
    },
    {
      "cell_type": "code",
      "metadata": {
        "id": "YbMJTy3MfKdu",
        "colab_type": "code",
        "colab": {}
      },
      "source": [
        "# Select columns: ev_gen\n",
        "ev_gen = medals[['Event_gender','Gender']]\n",
        "\n",
        "# Drop duplicate pairs: ev_gen_uniques\n",
        "ev_gen_uniques = ev_gen.drop_duplicates()\n",
        "\n",
        "# Print ev_gen_uniques\n",
        "print(ev_gen_uniques)"
      ],
      "execution_count": 0,
      "outputs": []
    },
    {
      "cell_type": "code",
      "metadata": {
        "id": "O9msfx0nfPQk",
        "colab_type": "code",
        "colab": {}
      },
      "source": [
        "# Group medals by the two columns: medals_by_gender\n",
        "medals_by_gender = medals.groupby(['Event_gender','Gender'])\n",
        "\n",
        "# Create a DataFrame with a group count: medal_count_by_gender\n",
        "medal_count_by_gender = medals_by_gender.count()\n",
        "\n",
        "# Print medal_count_by_gender\n",
        "print(medal_count_by_gender)"
      ],
      "execution_count": 0,
      "outputs": []
    },
    {
      "cell_type": "code",
      "metadata": {
        "id": "4sdg8M13fRMU",
        "colab_type": "code",
        "colab": {}
      },
      "source": [
        "# Create the Boolean Series: sus\n",
        "sus = (medals.Event_gender == 'W') & (medals.Gender == 'Men')\n",
        "\n",
        "# Create a DataFrame with the suspicious row: suspect\n",
        "suspect = medals[sus]\n",
        "\n",
        "# Print suspect\n",
        "print(suspect)"
      ],
      "execution_count": 0,
      "outputs": []
    },
    {
      "cell_type": "code",
      "metadata": {
        "id": "iSmwZ6oqfVAq",
        "colab_type": "code",
        "colab": {}
      },
      "source": [
        "# Group medals by 'NOC': country_grouped\n",
        "country_grouped = medals.groupby('NOC')\n",
        "\n",
        "# Compute the number of distinct sports in which each country won medals: Nsports\n",
        "Nsports = country_grouped['Sport'].nunique()\n",
        "\n",
        "# Sort the values of Nsports in descending order\n",
        "Nsports = Nsports.sort_values(ascending=False)\n",
        "\n",
        "# Print the top 15 rows of Nsports\n",
        "print(Nsports.head(15))"
      ],
      "execution_count": 0,
      "outputs": []
    },
    {
      "cell_type": "code",
      "metadata": {
        "id": "UC6ffIuufW3G",
        "colab_type": "code",
        "colab": {}
      },
      "source": [
        "# Create a Boolean Series that is True when 'Edition' is between 1952 and 1988: during_cold_war\n",
        "during_cold_war = (medals['Edition'] >= 1952) & (medals['Edition'] <= 1988)\n",
        "\n",
        "# Extract rows for which 'NOC' is either 'USA' or 'URS': is_usa_urs\n",
        "is_usa_urs = medals.NOC.isin(['USA','URS'])\n",
        "\n",
        "# Use during_cold_war and is_usa_urs to create the DataFrame: cold_war_medals\n",
        "cold_war_medals = medals.loc[during_cold_war & is_usa_urs]\n",
        "\n",
        "# Group cold_war_medals by 'NOC'\n",
        "country_grouped = cold_war_medals.groupby('NOC')\n",
        "\n",
        "# Create Nsports\n",
        "Nsports = (country_grouped['Sport'].nunique()).sort_values(ascending=False)\n",
        "\n",
        "# Print Nsports\n",
        "print(Nsports)\n"
      ],
      "execution_count": 0,
      "outputs": []
    },
    {
      "cell_type": "code",
      "metadata": {
        "id": "CqRaCYV4fY2O",
        "colab_type": "code",
        "colab": {}
      },
      "source": [
        "# Create the pivot table: medals_won_by_country\n",
        "medals_won_by_country = medals.pivot_table(index='Edition',columns='NOC',values='Athlete',aggfunc='count')\n",
        "\n",
        "# Slice medals_won_by_country: cold_war_usa_urs_medals\n",
        "cold_war_usa_urs_medals = medals_won_by_country.loc[1952:1988, ['USA','URS']]\n",
        "\n",
        "# Create most_medals \n",
        "most_medals = cold_war_usa_urs_medals.idxmax(axis='columns')\n",
        "\n",
        "# Print most_medals.value_counts()\n",
        "print(most_medals.value_counts())"
      ],
      "execution_count": 0,
      "outputs": []
    },
    {
      "cell_type": "code",
      "metadata": {
        "id": "6zO_nJmnfaqZ",
        "colab_type": "code",
        "colab": {}
      },
      "source": [
        "# Create the DataFrame: usa\n",
        "usa = medals[medals['NOC']=='USA']\n",
        "\n",
        "# Group usa by ['Edition', 'Medal'] and aggregate over 'Athlete'\n",
        "usa_medals_by_year = (usa.groupby(['Edition','Medal'])['Athlete']).count()\n",
        "\n",
        "# Reshape usa_medals_by_year by unstacking\n",
        "usa_medals_by_year = usa_medals_by_year.unstack(level='Medal')\n",
        "\n",
        "# Plot the DataFrame usa_medals_by_year\n",
        "usa_medals_by_year.plot()\n",
        "plt.show()"
      ],
      "execution_count": 0,
      "outputs": []
    },
    {
      "cell_type": "code",
      "metadata": {
        "id": "miWi4eVIfcnw",
        "colab_type": "code",
        "colab": {}
      },
      "source": [
        "# Create the DataFrame: usa\n",
        "usa = medals[medals.NOC == 'USA']\n",
        "\n",
        "# Group usa by 'Edition', 'Medal', and 'Athlete'\n",
        "usa_medals_by_year = usa.groupby(['Edition', 'Medal'])['Athlete'].count()\n",
        "\n",
        "# Reshape usa_medals_by_year by unstacking\n",
        "usa_medals_by_year = usa_medals_by_year.unstack(level='Medal')\n",
        "\n",
        "# Create an area plot of usa_medals_by_year\n",
        "usa_medals_by_year.plot.area()\n",
        "\n",
        "plt.show()"
      ],
      "execution_count": 0,
      "outputs": []
    },
    {
      "cell_type": "code",
      "metadata": {
        "id": "POSFJRuZfeJF",
        "colab_type": "code",
        "colab": {}
      },
      "source": [
        "# Redefine 'Medal' as an ordered categorical\n",
        "medals.Medal = pd.Categorical(values=medals.Medal,categories=['Bronze','Silver','Gold'],ordered=True)\n",
        "\n",
        "# Create the DataFrame: usa\n",
        "usa = medals[medals.NOC == 'USA']\n",
        "\n",
        "# Group usa by 'Edition', 'Medal', and 'Athlete'\n",
        "usa_medals_by_year = usa.groupby(['Edition', 'Medal'])['Athlete'].count()\n",
        "\n",
        "# Reshape usa_medals_by_year by unstacking\n",
        "usa_medals_by_year = usa_medals_by_year.unstack(level='Medal')\n",
        "\n",
        "# Create an area plot of usa_medals_by_year\n",
        "usa_medals_by_year.plot.area()\n",
        "plt.show()"
      ],
      "execution_count": 0,
      "outputs": []
    },
    {
      "cell_type": "code",
      "metadata": {
        "id": "7DJVZhSCff8t",
        "colab_type": "code",
        "colab": {}
      },
      "source": [
        ""
      ],
      "execution_count": 0,
      "outputs": []
    }
  ]
}