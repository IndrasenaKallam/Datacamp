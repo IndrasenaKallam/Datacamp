{
  "nbformat": 4,
  "nbformat_minor": 0,
  "metadata": {
    "colab": {
      "name": "Pandas.ipynb",
      "provenance": []
    },
    "kernelspec": {
      "name": "python3",
      "display_name": "Python 3"
    }
  },
  "cells": [
    {
      "cell_type": "code",
      "metadata": {
        "id": "xzPCUitMfZGR",
        "colab_type": "code",
        "colab": {}
      },
      "source": [
        "# Import cars data\n",
        "import pandas as pd\n",
        "cars = pd.read_csv('cars.csv', index_col = 0)\n",
        "\n",
        "# Extract drives_right column as Series: dr\n",
        "dr = cars['drives_right']\n",
        "print(dr)\n",
        "# Use dr to subset cars: sel\n",
        "sel = cars[dr]\n",
        "# Print sel\n",
        "print(sel)"
      ],
      "execution_count": 0,
      "outputs": []
    },
    {
      "cell_type": "code",
      "metadata": {
        "id": "rbPzrb7Jfa9z",
        "colab_type": "code",
        "colab": {}
      },
      "source": [
        "# Import cars data\n",
        "import pandas as pd\n",
        "cars = pd.read_csv('cars.csv', index_col = 0)\n",
        "\n",
        "# Convert code to a one-liner\n",
        "\n",
        "sel = cars[cars['drives_right']]\n",
        "\n",
        "# Print sel\n",
        "print(sel)"
      ],
      "execution_count": 0,
      "outputs": []
    },
    {
      "cell_type": "code",
      "metadata": {
        "id": "-aUGQECCfdPM",
        "colab_type": "code",
        "colab": {}
      },
      "source": [
        "# Import cars data\n",
        "import pandas as pd\n",
        "cars = pd.read_csv('cars.csv', index_col = 0)\n",
        "\n",
        "# Create car_maniac: observations that have a cars_per_cap over 500\n",
        "car_maniac = cars[cars['cars_per_cap']>500]\n",
        "\n",
        "# Print car_maniac\n",
        "print(car_maniac)"
      ],
      "execution_count": 0,
      "outputs": []
    },
    {
      "cell_type": "code",
      "metadata": {
        "id": "3ux5EaCBfgV9",
        "colab_type": "code",
        "colab": {}
      },
      "source": [
        "# Import cars data\n",
        "import pandas as pd\n",
        "cars = pd.read_csv('cars.csv', index_col = 0)\n",
        "\n",
        "# Import numpy, you'll need this\n",
        "import numpy as np\n",
        "\n",
        "# Create medium: observations with cars_per_cap between 100 and 500\n",
        "\n",
        "medium = cars[np.logical_and(cars['cars_per_cap']>100 ,cars['cars_per_cap']<500)]\n",
        "\n",
        "\n",
        "# Print medium\n",
        "print(medium)"
      ],
      "execution_count": 0,
      "outputs": []
    },
    {
      "cell_type": "code",
      "metadata": {
        "id": "i4QFWchzfgzu",
        "colab_type": "code",
        "colab": {}
      },
      "source": [
        ""
      ],
      "execution_count": 0,
      "outputs": []
    }
  ]
}