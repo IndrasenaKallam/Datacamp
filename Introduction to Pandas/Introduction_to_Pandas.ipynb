{
  "nbformat": 4,
  "nbformat_minor": 0,
  "metadata": {
    "colab": {
      "name": "Introduction to Pandas.ipynb",
      "provenance": []
    },
    "kernelspec": {
      "name": "python3",
      "display_name": "Python 3"
    }
  },
  "cells": [
    {
      "cell_type": "code",
      "metadata": {
        "id": "0BL9OWBeWNHC",
        "colab_type": "code",
        "colab": {}
      },
      "source": [
        "# Import numpy\n",
        "import numpy as np\n",
        "\n",
        "# Create array of DataFrame values: np_vals\n",
        "np_vals = df.values\n",
        "\n",
        "# Create new array of base 10 logarithm values: np_vals_log10\n",
        "np_vals_log10 = np.log10(np_vals)\n",
        "\n",
        "# Create array of new DataFrame by passing df to np.log10(): df_log10\n",
        "df_log10 = np.log10(df)\n",
        "\n",
        "# Print original and new data containers\n",
        "[print(x, 'has type', type(eval(x))) for x in ['np_vals', 'np_vals_log10', 'df', 'df_log10']]"
      ],
      "execution_count": 0,
      "outputs": []
    },
    {
      "cell_type": "markdown",
      "metadata": {
        "id": "r_qEONmnWu15",
        "colab_type": "text"
      },
      "source": [
        "# Building DataFrame from Sratch"
      ]
    },
    {
      "cell_type": "code",
      "metadata": {
        "id": "TGFxjkEvW1_l",
        "colab_type": "code",
        "colab": {}
      },
      "source": [
        "# Zip the 2 lists together into one list of (key,value) tuples: zipped\n",
        "zipped = list(zip(list_keys,list_values))\n",
        "\n",
        "# Inspect the list using print()\n",
        "print(zipped)\n",
        "\n",
        "# Build a dictionary with the zipped list: data\n",
        "data = dict(zipped)\n",
        "\n",
        "# Build and inspect a DataFrame from the dictionary: df\n",
        "df = pd.DataFrame(data)\n",
        "print(df)"
      ],
      "execution_count": 0,
      "outputs": []
    },
    {
      "cell_type": "code",
      "metadata": {
        "id": "DEUQQlr3W3no",
        "colab_type": "code",
        "colab": {}
      },
      "source": [
        "# Build a list of labels: list_labels\n",
        "list_labels = ['year','artist','song','chart weeks']\n",
        "\n",
        "# Assign the list of labels to the columns attribute: df.columns\n",
        "df.columns = list_labels"
      ],
      "execution_count": 0,
      "outputs": []
    },
    {
      "cell_type": "code",
      "metadata": {
        "id": "Tc15TrsgW7bo",
        "colab_type": "code",
        "colab": {}
      },
      "source": [
        "# Make a string with the value 'PA': state\n",
        "state = 'PA'\n",
        "\n",
        "# Construct a dictionary: data\n",
        "data = {'state':state, 'city':cities}\n",
        "\n",
        "# Construct a DataFrame from dictionary data: df\n",
        "df = pd.DataFrame(data)\n",
        "\n",
        "# Print the DataFrame\n",
        "print(df)"
      ],
      "execution_count": 0,
      "outputs": []
    },
    {
      "cell_type": "markdown",
      "metadata": {
        "id": "3wEBG59fW75j",
        "colab_type": "text"
      },
      "source": [
        "# Import and Exploring data"
      ]
    },
    {
      "cell_type": "code",
      "metadata": {
        "id": "lU-YukuzXCxZ",
        "colab_type": "code",
        "colab": {}
      },
      "source": [
        "# Read in the file: df1\n",
        "df1 = pd.read_csv(data_file)\n",
        "\n",
        "# Create a list of the new column labels: new_labels\n",
        "new_labels = ['year','population']\n",
        "\n",
        "# Read in the file, specifying the header and names parameters: df2\n",
        "df2 = pd.read_csv(data_file, header=0, names=new_labels)\n",
        "\n",
        "# Print both the DataFrames\n",
        "print(df1)\n",
        "print(df2)"
      ],
      "execution_count": 0,
      "outputs": []
    },
    {
      "cell_type": "code",
      "metadata": {
        "id": "tA-dqR1yXFj5",
        "colab_type": "code",
        "colab": {}
      },
      "source": [
        "# Read the raw file as-is: df1\n",
        "df1 = pd.read_csv(file_messy)\n",
        "# Print the output of df1.head()\n",
        "print(df1.head())\n",
        "\n",
        "# Read in the file with the correct parameters: df2\n",
        "df2 = pd.read_csv(file_messy, delimiter=' ', header = 3, comment= '#')\n",
        "\n",
        "# Print the output of df2.head()\n",
        "print(df2.head())\n",
        "\n",
        "# Save the cleaned up DataFrame to a CSV file without the index\n",
        "df2.to_csv(file_clean, index=False)\n",
        "\n",
        "# Save the cleaned up DataFrame to an excel file without the index\n",
        "df2.to_excel('file_clean.xlsx', index=False)"
      ],
      "execution_count": 0,
      "outputs": []
    },
    {
      "cell_type": "markdown",
      "metadata": {
        "id": "OE_t8Bs7XG7p",
        "colab_type": "text"
      },
      "source": [
        "# ploting pandas"
      ]
    },
    {
      "cell_type": "code",
      "metadata": {
        "id": "_hO6LpdqXM1m",
        "colab_type": "code",
        "colab": {}
      },
      "source": [
        "# Create a plot with color='red'\n",
        "df.plot(color='red')\n",
        "\n",
        "# Add a title\n",
        "plt.title('Temperature in Austin')\n",
        "# Specify the x-axis label\n",
        "plt.xlabel('Hours since midnight August 1, 2010')\n",
        "\n",
        "# Specify the y-axis label\n",
        "plt.ylabel('Temperature (degrees F)')\n",
        "\n",
        "# Display the plot\n",
        "plt.show()\n",
        "\n"
      ],
      "execution_count": 0,
      "outputs": []
    },
    {
      "cell_type": "code",
      "metadata": {
        "id": "ysIcusWXXPox",
        "colab_type": "code",
        "colab": {}
      },
      "source": [
        "# Plot all columns (default)\n",
        "df.plot()\n",
        "plt.show()\n",
        "\n",
        "# Plot all columns as subplots\n",
        "df.plot(subplots=True)\n",
        "plt.show()\n",
        "df.head()\n",
        "# Plot just the Dew Point data\n",
        "column_list1 = ['Dew Point (deg F)']\n",
        "df[column_list1].plot()\n",
        "plt.show()\n",
        "\n",
        "# Plot the Dew Point and Temperature data, but not the Pressure data\n",
        "column_list2 = ['Temperature (deg F)','Dew Point (deg F)']\n",
        "df[column_list2].plot()\n",
        "plt.show()"
      ],
      "execution_count": 0,
      "outputs": []
    },
    {
      "cell_type": "markdown",
      "metadata": {
        "id": "PVeA9F5nXRHW",
        "colab_type": "text"
      },
      "source": [
        "# Visual EDA"
      ]
    },
    {
      "cell_type": "code",
      "metadata": {
        "id": "j7rqVv3bXV_9",
        "colab_type": "code",
        "colab": {}
      },
      "source": [
        "# Create a list of y-axis column names: y_columns\n",
        "y_columns = ['AAPL','IBM']\n",
        "\n",
        "# Generate a line plot\n",
        "df.plot(x='Month', y=y_columns)\n",
        "\n",
        "# Add the title\n",
        "plt.title('Monthly stock prices')\n",
        "\n",
        "# Add the y-axis label\n",
        "plt.ylabel('Price ($US)')\n",
        "\n",
        "# Display the plot\n",
        "plt.show()"
      ],
      "execution_count": 0,
      "outputs": []
    },
    {
      "cell_type": "code",
      "metadata": {
        "id": "cg_ZCBpKXXdN",
        "colab_type": "code",
        "colab": {}
      },
      "source": [
        "# Generate a scatter plot\n",
        "df.plot(kind = 'scatter', x ='hp', y ='mpg', s=sizes)\n",
        "\n",
        "# Add the title\n",
        "plt.title('Fuel efficiency vs Horse-power')\n",
        "\n",
        "# Add the x-axis label\n",
        "plt.xlabel('Horse-power')\n",
        "\n",
        "# Add the y-axis label\n",
        "plt.ylabel('Fuel efficiency (mpg)')\n",
        "\n",
        "# Display the plot\n",
        "plt.show()"
      ],
      "execution_count": 0,
      "outputs": []
    },
    {
      "cell_type": "code",
      "metadata": {
        "id": "I75XKQioXY9d",
        "colab_type": "code",
        "colab": {}
      },
      "source": [
        "# Make a list of the column names to be plotted: cols\n",
        "cols = ['weight','mpg']\n",
        "\n",
        "# Generate the box plots\n",
        "df[cols].plot(kind='box',subplots=True)\n",
        "\n",
        "# Display the plot\n",
        "plt.show()"
      ],
      "execution_count": 0,
      "outputs": []
    },
    {
      "cell_type": "code",
      "metadata": {
        "id": "PaGxAu3hXavF",
        "colab_type": "code",
        "colab": {}
      },
      "source": [
        "# This formats the plots such that they appear on separate rows\n",
        "fig, axes = plt.subplots(nrows=2, ncols=1)\n",
        "\n",
        "# Plot the PDF\n",
        "df.fraction.plot(ax=axes[0], kind='hist', normed=True, bins=30, range=(0,.3))\n",
        "plt.show()\n",
        "\n",
        "# Plot the CDF\n",
        "df.fraction.plot(ax=axes[1], kind='hist', normed=True, cumulative=True, bins=30, range=(0,.3))\n",
        "plt.show()"
      ],
      "execution_count": 0,
      "outputs": []
    },
    {
      "cell_type": "markdown",
      "metadata": {
        "id": "8dT_1_vEXcAF",
        "colab_type": "text"
      },
      "source": [
        "# Statistical EDA"
      ]
    },
    {
      "cell_type": "code",
      "metadata": {
        "id": "FRqifIqJXgfx",
        "colab_type": "code",
        "colab": {}
      },
      "source": [
        "# Print the minimum value of the Engineering column\n",
        "print(df['Engineering'].min())\n",
        "\n",
        "# Print the maximum value of the Engineering column\n",
        "print(df['Engineering'].max())\n",
        "\n",
        "# Construct the mean percentage per year: mean\n",
        "mean = df.mean(axis='columns')\n",
        "\n",
        "# Plot the average percentage per year\n",
        "mean.plot()\n",
        "\n",
        "# Display the plot\n",
        "plt.show()"
      ],
      "execution_count": 0,
      "outputs": []
    },
    {
      "cell_type": "code",
      "metadata": {
        "id": "fNd4RtBSXjfR",
        "colab_type": "code",
        "colab": {}
      },
      "source": [
        "# Print summary statistics of the fare column with .describe()\n",
        "print(df['fare'].describe())\n",
        "\n",
        "# Generate a box plot of the fare column\n",
        "df['fare'].plot(kind='box')\n",
        "# Show the plot\n",
        "plt.show()"
      ],
      "execution_count": 0,
      "outputs": []
    },
    {
      "cell_type": "code",
      "metadata": {
        "id": "zsFhveqfXlRc",
        "colab_type": "code",
        "colab": {}
      },
      "source": [
        "# Print summary statistics of the fare column with .describe()\n",
        "print(df['fare'].describe())\n",
        "\n",
        "# Generate a box plot of the fare column\n",
        "df['fare'].plot(kind='box')\n",
        "# Show the plot\n",
        "plt.show()"
      ],
      "execution_count": 0,
      "outputs": []
    },
    {
      "cell_type": "code",
      "metadata": {
        "id": "L9zacBdPXn_R",
        "colab_type": "code",
        "colab": {}
      },
      "source": [
        "# Print the number of countries reported in 2015\n",
        "print(df['2015'].count())\n",
        "\n",
        "# Print the 5th and 95th percentiles\n",
        "print(df.quantile([0.05,0.95]))\n",
        "\n",
        "# Generate a box plot\n",
        "years = ['1800','1850','1900','1950','2000']\n",
        "df[years].plot(kind='box')\n",
        "plt.show()"
      ],
      "execution_count": 0,
      "outputs": []
    },
    {
      "cell_type": "code",
      "metadata": {
        "id": "BHPXEgFiXpjJ",
        "colab_type": "code",
        "colab": {}
      },
      "source": [
        "# Print the mean of the January and March data\n",
        "print(january.mean(), march.mean())\n",
        "\n",
        "# Print the standard deviation of the January and March data\n",
        "print(january.std(),march.std())"
      ],
      "execution_count": 0,
      "outputs": []
    },
    {
      "cell_type": "code",
      "metadata": {
        "id": "wNIKQ5vuXrGN",
        "colab_type": "code",
        "colab": {}
      },
      "source": [
        "\n",
        "# Display the box plots on 3 separate rows and 1 column\n",
        "fig, axes = plt.subplots(nrows=3, ncols=1)\n",
        "\n",
        "# Generate a box plot of the fare prices for the First passenger class\n",
        "titanic.loc[titanic['pclass'] == 1].plot(ax=axes[0], y='fare', kind='box')\n",
        "\n",
        "# Generate a box plot of the fare prices for the Second passenger class\n",
        "titanic.loc[titanic['pclass'] == 2].plot(ax=axes[1], y='fare', kind='box')\n",
        "\n",
        "# Generate a box plot of the fare prices for the Third passenger class\n",
        "titanic.loc[titanic['pclass'] == 3].plot(ax=axes[2], y='fare', kind='box')\n",
        "\n",
        "# Display the plot\n",
        "plt.show()\n",
        "plt.show()"
      ],
      "execution_count": 0,
      "outputs": []
    },
    {
      "cell_type": "markdown",
      "metadata": {
        "id": "pHVTr79ZXzAy",
        "colab_type": "text"
      },
      "source": [
        "# Indexing Time series"
      ]
    },
    {
      "cell_type": "code",
      "metadata": {
        "id": "FzN-zSBxX2D9",
        "colab_type": "code",
        "colab": {}
      },
      "source": [
        "# Prepare a format string: time_format\n",
        "time_format='%Y-%m-%d %H:%M'\n",
        "\n",
        "# Convert date_list into a datetime object: my_datetimes\n",
        "my_datetimes = pd.to_datetime(date_list, format=time_format)  \n",
        "\n",
        "# Construct a pandas Series using temperature_list and my_datetimes: time_series\n",
        "time_series = pd.Series(temperature_list, index=my_datetimes)"
      ],
      "execution_count": 0,
      "outputs": []
    },
    {
      "cell_type": "code",
      "metadata": {
        "id": "v6j1O5jRX5tZ",
        "colab_type": "code",
        "colab": {}
      },
      "source": [
        "# Extract the hour from 9pm to 10pm on '2010-10-11': ts1\n",
        "ts1 = ts0.loc['2010-10-11 21:00:00':'2010-10-11 22:00:00']\n",
        "\n",
        "# Extract '2010-07-04' from ts0: ts2\n",
        "ts2 = ts0.loc['2010-07-04']\n",
        "\n",
        "# Extract data from '2010-12-15' to '2010-12-31': ts3\n",
        "ts3 = ts0.loc['2010-12-15':'2010-12-31']\n"
      ],
      "execution_count": 0,
      "outputs": []
    },
    {
      "cell_type": "code",
      "metadata": {
        "id": "3y7Zsk-aX7jF",
        "colab_type": "code",
        "colab": {}
      },
      "source": [
        "# Reindex without fill method: ts3\n",
        "ts3 = ts2.reindex(ts1.index)\n",
        "\n",
        "# Reindex with fill method, using forward fill: ts4\n",
        "ts4 = ts2.reindex(ts1.index,method='ffill')\n",
        "\n",
        "# Combine ts1 + ts2: sum12\n",
        "sum12 = ts1 + ts2\n",
        "\n",
        "# Combine ts1 + ts3: sum13\n",
        "sum13 = ts1 + ts3\n",
        "\n",
        "# Combine ts1 + ts4: sum14\n",
        "sum14 = ts1 + ts4"
      ],
      "execution_count": 0,
      "outputs": []
    },
    {
      "cell_type": "markdown",
      "metadata": {
        "id": "Wrb0gnprX9Md",
        "colab_type": "text"
      },
      "source": [
        "# Resampling and Frequency\n"
      ]
    },
    {
      "cell_type": "code",
      "metadata": {
        "id": "m6QZub_1YDED",
        "colab_type": "code",
        "colab": {}
      },
      "source": [
        "# Downsample to 6 hour data and aggregate by mean: df1\n",
        "df1 = df.loc[:,'Temperature'].resample('6h').mean()\n",
        "\n",
        "# Downsample to daily data and count the number of data points: df2\n",
        "df2 = df.loc[:,'Temperature'].resample('D').count()\n",
        "print(df2)"
      ],
      "execution_count": 0,
      "outputs": []
    },
    {
      "cell_type": "code",
      "metadata": {
        "id": "aDPEgPzCYECS",
        "colab_type": "code",
        "colab": {}
      },
      "source": [
        "# Extract temperature data for August: august\n",
        "august = df.loc['2010-08','Temperature']\n",
        "\n",
        "# Downsample to obtain only the daily highest temperatures in August: august_highs\n",
        "august_highs = august.resample('D').max()\n",
        "\n",
        "# Extract temperature data for February: february\n",
        "february = df.loc['2010-02','Temperature']\n",
        "\n",
        "# Downsample to obtain the daily lowest temperatures in February: february_lows\n",
        "february_lows = february.resample('D').min()\n"
      ],
      "execution_count": 0,
      "outputs": []
    },
    {
      "cell_type": "code",
      "metadata": {
        "id": "nH8JsJhmYFLq",
        "colab_type": "code",
        "colab": {}
      },
      "source": [
        "# Extract data from 2010-Aug-01 to 2010-Aug-15: unsmoothed\n",
        "unsmoothed = df['Temperature']['2010-08-01':'2010-08-15']\n",
        "\n",
        "# Apply a rolling mean with a 24 hour window: smoothed\n",
        "smoothed = unsmoothed.rolling(window=24).mean()\n",
        "\n",
        "# Create a new DataFrame with columns smoothed and unsmoothed: august\n",
        "august = pd.DataFrame({'smoothed':smoothed, 'unsmoothed':unsmoothed})\n",
        "\n",
        "# Plot both smoothed and unsmoothed data using august.plot().\n",
        "august.plot()\n",
        "plt.show()"
      ],
      "execution_count": 0,
      "outputs": []
    },
    {
      "cell_type": "code",
      "metadata": {
        "id": "TpHSM1PjYGat",
        "colab_type": "code",
        "colab": {}
      },
      "source": [
        "# Extract the August 2010 data: august\n",
        "august = df['Temperature']['2010-08']\n",
        "\n",
        "# Resample to daily data, aggregating by max: daily_highs\n",
        "daily_highs = august.resample('D').max()\n",
        "\n",
        "# Use a rolling 7-day window with method chaining to smooth the daily high temperatures in August\n",
        "daily_highs_smoothed = daily_highs.rolling(window=7).mean()\n",
        "print(daily_highs_smoothed)"
      ],
      "execution_count": 0,
      "outputs": []
    },
    {
      "cell_type": "code",
      "metadata": {
        "id": "yy5ow0XwYH4G",
        "colab_type": "code",
        "colab": {}
      },
      "source": [
        ""
      ],
      "execution_count": 0,
      "outputs": []
    },
    {
      "cell_type": "markdown",
      "metadata": {
        "id": "Bak4cYW7YJtH",
        "colab_type": "text"
      },
      "source": [
        "# Manipulating Time series and Data"
      ]
    },
    {
      "cell_type": "code",
      "metadata": {
        "id": "_VoKyPYmYPxJ",
        "colab_type": "code",
        "colab": {}
      },
      "source": [
        "# Strip extra whitespace from the column names: df.columns\n",
        "df.columns = df.columns.str.strip()\n",
        "\n",
        "# Extract data for which the destination airport is Dallas: dallas\n",
        "dallas = df['Destination Airport'].str.contains('DAL')\n",
        "\n",
        "# Compute the total number of Dallas departures each day: daily_departures\n",
        "daily_departures = dallas.resample('D').sum()\n",
        "\n",
        "# Generate the summary statistics for daily Dallas departures: stats\n",
        "stats = daily_departures.describe()\n",
        "print(stats)"
      ],
      "execution_count": 0,
      "outputs": []
    },
    {
      "cell_type": "code",
      "metadata": {
        "id": "reU3HquuYRbF",
        "colab_type": "code",
        "colab": {}
      },
      "source": [
        "# Reset the index of ts2 to ts1, and then use linear interpolation to fill in the NaNs: ts2_interp\n",
        "ts2_interp = ts2.reindex(ts1.index).interpolate(how='linear')\n",
        "\n",
        "# Compute the absolute difference of ts1 and ts2_interp: differences \n",
        "differences = np.abs(ts1 - ts2_interp)\n",
        "\n",
        "# Generate and print summary statistics of the differences\n",
        "print(differences.describe())"
      ],
      "execution_count": 0,
      "outputs": []
    },
    {
      "cell_type": "code",
      "metadata": {
        "id": "7e-oNXZTYUYP",
        "colab_type": "code",
        "colab": {}
      },
      "source": [
        "# Build a Boolean mask to filter for the 'LAX' departure flights: mask\n",
        "mask = df['Destination Airport'] == 'LAX'\n",
        "\n",
        "# Use the mask to subset the data: la\n",
        "la = df[mask]\n",
        "\n",
        "# Combine two columns of data to create a datetime series: times_tz_none \n",
        "times_tz_none = pd.to_datetime( la['Date (MM/DD/YYYY)'] + ' ' + la['Wheels-off Time'] )\n",
        "\n",
        "# Localize the time to US/Central: times_tz_central\n",
        "times_tz_central = times_tz_none.dt.tz_localize('US/Central')\n",
        "\n",
        "# Convert the datetimes from US/Central to US/Pacific\n",
        "times_tz_pacific = times_tz_central.dt.tz_convert('US/Pacific')"
      ],
      "execution_count": 0,
      "outputs": []
    },
    {
      "cell_type": "markdown",
      "metadata": {
        "id": "5G228zlOYX1m",
        "colab_type": "text"
      },
      "source": [
        "# Time series visualization"
      ]
    },
    {
      "cell_type": "code",
      "metadata": {
        "id": "xTElUIfPYiNe",
        "colab_type": "code",
        "colab": {}
      },
      "source": [
        "# Plot the raw data before setting the datetime index\n",
        "df.plot()\n",
        "plt.show()\n",
        "\n",
        "# Convert the 'Date' column into a collection of datetime objects: df.Date\n",
        "df.Date = pd.to_datetime(df['Date'])\n",
        "\n",
        "# Set the index to be the converted 'Date' column\n",
        "df.set_index('Date',inplace = True)\n",
        "\n",
        "# Re-plot the DataFrame to see that the axis is now datetime aware!\n",
        "df.plot()\n",
        "plt.show()"
      ],
      "execution_count": 0,
      "outputs": []
    },
    {
      "cell_type": "code",
      "metadata": {
        "id": "GR-KVJxEYjoa",
        "colab_type": "code",
        "colab": {}
      },
      "source": [
        "# Plot the summer data\n",
        "df.Temperature['2010-Jun':'2010-Aug'].plot()\n",
        "plt.show()\n",
        "plt.clf()\n",
        "\n",
        "# Plot the one week data\n",
        "df.Temperature['2010-06-10':'2010-06-17'].plot()\n",
        "plt.show()\n",
        "plt.clf()\n"
      ],
      "execution_count": 0,
      "outputs": []
    },
    {
      "cell_type": "markdown",
      "metadata": {
        "id": "tiRKytucYk66",
        "colab_type": "text"
      },
      "source": [
        "# Reading and cleaning the data "
      ]
    },
    {
      "cell_type": "code",
      "metadata": {
        "id": "xtTy7Mp7YrKO",
        "colab_type": "code",
        "colab": {}
      },
      "source": [
        "# Import pandas\n",
        "import pandas as pd \n",
        "\n",
        "# Read in the data file: df\n",
        "df = pd.read_csv(data_file)\n",
        "\n",
        "# Print the output of df.head()\n",
        "print(df.head())\n",
        "\n",
        "# Read in the data file with header=None: df_headers\n",
        "df_headers = pd.read_csv(data_file, header=None)\n",
        "\n",
        "# Print the output of df_headers.head()\n",
        "print(df_headers.head())"
      ],
      "execution_count": 0,
      "outputs": []
    },
    {
      "cell_type": "code",
      "metadata": {
        "id": "fHqlPbSlYsVG",
        "colab_type": "code",
        "colab": {}
      },
      "source": [
        "# Split on the comma to create a list: column_labels_list\n",
        "column_labels_list = column_labels.split(\",\")\n",
        "\n",
        "# Assign the new column labels to the DataFrame: df.columns\n",
        "df.columns = column_labels_list\n",
        "\n",
        "# Remove the appropriate columns: df_dropped\n",
        "df_dropped = df.drop(list_to_drop, axis='columns')\n",
        "\n",
        "# Print the output of df_dropped.head()\n",
        "print(df_dropped.head())"
      ],
      "execution_count": 0,
      "outputs": []
    },
    {
      "cell_type": "code",
      "metadata": {
        "id": "8pAN9ssJYvQC",
        "colab_type": "code",
        "colab": {}
      },
      "source": [
        "# Convert the date column to string: df_dropped['date']\n",
        "df_dropped['date'] = df_dropped['date'].astype(str)\n",
        "\n",
        "# Pad leading zeros to the Time column: df_dropped['Time']\n",
        "df_dropped['Time'] = df_dropped['Time'].apply(lambda x:'{:0>4}'.format(x))\n",
        "\n",
        "# Concatenate the new date and Time columns: date_string\n",
        "date_string = df_dropped['date']+df_dropped['Time']\n",
        "\n",
        "# Convert the date_string Series to datetime: date_times\n",
        "date_times = pd.to_datetime(date_string, format='%Y%m%d%H%M')\n",
        "\n",
        "# Set the index to be the new date_times container: df_clean\n",
        "df_clean = df_dropped.set_index(date_times)\n",
        "\n",
        "# Print the output of df_clean.head()\n",
        "print(df_clean.head())"
      ],
      "execution_count": 0,
      "outputs": []
    },
    {
      "cell_type": "code",
      "metadata": {
        "id": "x67sYKx3Ywrq",
        "colab_type": "code",
        "colab": {}
      },
      "source": [
        "# Print the dry_bulb_faren temperature between 8 AM and 9 AM on June 20, 2011\n",
        "print(df_clean.loc['2011-06-20 8:00':'2011-06-20 9:00', 'dry_bulb_faren'])\n",
        "\n",
        "# Convert the dry_bulb_faren column to numeric values: df_clean['dry_bulb_faren']\n",
        "df_clean['dry_bulb_faren'] = pd.to_numeric(df_clean['dry_bulb_faren'], errors= 'coerce')\n",
        "\n",
        "# Print the transformed dry_bulb_faren temperature between 8 AM and 9 AM on June 20, 2011\n",
        "print(df_clean.loc['2011-06-20 8:00':'2011-06-20 9:00', 'dry_bulb_faren'])\n",
        "\n",
        "# Convert the wind_speed and dew_point_faren columns to numeric values\n",
        "df_clean['wind_speed'] = pd.to_numeric(df_clean.wind_speed, errors='coerce')\n",
        "df_clean['dew_point_faren'] = pd.to_numeric(df_clean.dew_point_faren, errors='coerce')"
      ],
      "execution_count": 0,
      "outputs": []
    },
    {
      "cell_type": "markdown",
      "metadata": {
        "id": "QW6kOD6iYyTe",
        "colab_type": "text"
      },
      "source": [
        "# Statistical EDA"
      ]
    },
    {
      "cell_type": "code",
      "metadata": {
        "id": "wOFp6oJyY5o6",
        "colab_type": "code",
        "colab": {}
      },
      "source": [
        "# Print the median of the dry_bulb_faren column\n",
        "print(df_clean.dry_bulb_faren.median())\n",
        "\n",
        "# Print the median of the dry_bulb_faren column for the time range '2011-Apr':'2011-Jun'\n",
        "print(df_clean.loc['2011-Apr':'2011-Jun', 'dry_bulb_faren'].median())\n",
        "\n",
        "# Print the median of the dry_bulb_faren column for the month of January\n",
        "print(df_clean.loc['2011-01-01':'2011-01-31','dry_bulb_faren'].median())"
      ],
      "execution_count": 0,
      "outputs": []
    },
    {
      "cell_type": "code",
      "metadata": {
        "id": "IN0C0dsaY8b7",
        "colab_type": "code",
        "colab": {}
      },
      "source": [
        "# Downsample df_clean by day and aggregate by mean: daily_mean_2011\n",
        "daily_mean_2011 = df_clean.resample('D').mean()\n",
        "\n",
        "# Extract the dry_bulb_faren column from daily_mean_2011 using .values: daily_temp_2011\n",
        "daily_temp_2011 = daily_mean_2011['dry_bulb_faren'].values\n",
        "\n",
        "# Downsample df_climate by day and aggregate by mean: daily_climate\n",
        "daily_climate = df_climate.resample('D').mean()\n",
        "\n",
        "# Extract the Temperature column from daily_climate using .reset_index(): daily_temp_climate\n",
        "daily_temp_climate = daily_climate.reset_index()['Temperature']\n",
        "\n",
        "# Compute the difference between the two arrays and print the mean difference\n",
        "difference = daily_temp_2011 - daily_temp_climate\n",
        "print(difference.mean())"
      ],
      "execution_count": 0,
      "outputs": []
    },
    {
      "cell_type": "code",
      "metadata": {
        "id": "rxOES0ZQY_87",
        "colab_type": "code",
        "colab": {}
      },
      "source": [
        "# Import matplotlib.pyplot as plt\n",
        "import matplotlib.pyplot as plt\n",
        "# Select the visibility and dry_bulb_faren columns and resample them: weekly_mean\n",
        "weekly_mean = df_clean[['visibility','dry_bulb_faren']].resample('W').mean()\n",
        "\n",
        "# Print the output of weekly_mean.corr()\n",
        "print(weekly_mean.corr())\n",
        "\n",
        "# Plot weekly_mean with subplots=True\n",
        "weekly_mean.plot(subplots=True)\n",
        "plt.show()"
      ],
      "execution_count": 0,
      "outputs": []
    },
    {
      "cell_type": "code",
      "metadata": {
        "id": "tUYQV4FFZFr7",
        "colab_type": "code",
        "colab": {}
      },
      "source": [
        "# Resample dew_point_faren and dry_bulb_faren by Month, aggregating the maximum values: monthly_max\n",
        "monthly_max = df_clean[['dew_point_faren','dry_bulb_faren']].resample('M').max()\n",
        "\n",
        "# Generate a histogram with bins=8, alpha=0.5, subplots=True\n",
        "monthly_max.plot(kind='hist',bins=8,alpha = 0.5,subplots=True)\n",
        "\n",
        "# Show the plot\n",
        "plt.show()"
      ],
      "execution_count": 0,
      "outputs": []
    },
    {
      "cell_type": "code",
      "metadata": {
        "id": "X3IXQcDmZJfW",
        "colab_type": "code",
        "colab": {}
      },
      "source": [
        ""
      ],
      "execution_count": 0,
      "outputs": []
    }
  ]
}