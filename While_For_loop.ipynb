{
  "nbformat": 4,
  "nbformat_minor": 0,
  "metadata": {
    "colab": {
      "name": "While_For_loop.ipynb",
      "provenance": []
    },
    "kernelspec": {
      "name": "python3",
      "display_name": "Python 3"
    }
  },
  "cells": [
    {
      "cell_type": "code",
      "metadata": {
        "id": "i4QFWchzfgzu",
        "colab_type": "code",
        "colab": {}
      },
      "source": [
        "# Initialize offset\n",
        "offset = 8\n",
        "while offset != 0:\n",
        "    print(\"correcting...\")\n",
        "    offset -= 1\n",
        "    print(offset)\n",
        "\n",
        "# Code the while loop\n"
      ],
      "execution_count": 0,
      "outputs": []
    },
    {
      "cell_type": "code",
      "metadata": {
        "id": "znz-7Gs8ftdH",
        "colab_type": "code",
        "colab": {}
      },
      "source": [
        "# Initialize offset\n",
        "offset = -6\n",
        "\n",
        "# Code the while loop\n",
        "while offset != 0 :\n",
        "    print(\"correcting...\")\n",
        "    if offset > 0 :\n",
        "      offset -= 1\n",
        "    else : \n",
        "      offset += 1\n",
        "    print(offset)"
      ],
      "execution_count": 0,
      "outputs": []
    },
    {
      "cell_type": "code",
      "metadata": {
        "id": "7TBTfxMIfvs6",
        "colab_type": "code",
        "colab": {}
      },
      "source": [
        "# areas list\n",
        "areas = [11.25, 18.0, 20.0, 10.75, 9.50]\n",
        "\n",
        "# Code the for loop\n",
        "for i in areas:\n",
        "    print(i)"
      ],
      "execution_count": 0,
      "outputs": []
    },
    {
      "cell_type": "code",
      "metadata": {
        "id": "XBygrN_bf4bq",
        "colab_type": "code",
        "colab": {}
      },
      "source": [
        "# areas list\n",
        "areas = [11.25, 18.0, 20.0, 10.75, 9.50]\n",
        "\n",
        "# Change for loop to use enumerate() and update print()\n",
        "for index,area in enumerate(areas) :\n",
        "    print(\"room \"+ str(index) + \":\"+ str(area))"
      ],
      "execution_count": 0,
      "outputs": []
    },
    {
      "cell_type": "code",
      "metadata": {
        "id": "4QtGcHAQf6Mx",
        "colab_type": "code",
        "colab": {}
      },
      "source": [
        "# areas list\n",
        "areas = [11.25, 18.0, 20.0, 10.75, 9.50]\n",
        "\n",
        "# Code the for loop\n",
        "for index, area in enumerate(areas) :\n",
        "    print(\"room \" + str(index+1) + \": \" + str(area))"
      ],
      "execution_count": 0,
      "outputs": []
    },
    {
      "cell_type": "code",
      "metadata": {
        "id": "2FWe1U51f85J",
        "colab_type": "code",
        "colab": {}
      },
      "source": [
        "# house list of lists\n",
        "house = [[\"hallway\", 11.25], \n",
        "         [\"kitchen\", 18.0], \n",
        "         [\"living room\", 20.0], \n",
        "         [\"bedroom\", 10.75], \n",
        "         [\"bathroom\", 9.50]]\n",
        "         \n",
        "# Build a for loop from scratch\n",
        "for i,v in house :\n",
        "    print(\"the \"+ str(i) + \" is \"+  str(v) + \" sqm\")"
      ],
      "execution_count": 0,
      "outputs": []
    },
    {
      "cell_type": "code",
      "metadata": {
        "id": "tcn_rLyrf-5d",
        "colab_type": "code",
        "colab": {}
      },
      "source": [
        "# Definition of dictionary\n",
        "europe = {'spain':'madrid', 'france':'paris', 'germany':'berlin',\n",
        "          'norway':'oslo', 'italy':'rome', 'poland':'warsaw', 'austria':'vienna' }\n",
        "          \n",
        "# Iterate over europe\n",
        "for i,v in europe.items():\n",
        "    print(\"the capital of \"+ i +\" is \"+ v)\n"
      ],
      "execution_count": 0,
      "outputs": []
    },
    {
      "cell_type": "code",
      "metadata": {
        "id": "UVR0fy5ygCI9",
        "colab_type": "code",
        "colab": {}
      },
      "source": [
        "# Import numpy as np\n",
        "import numpy as np\n",
        "\n",
        "\n",
        "# For loop over np_height\n",
        "for i in np_height:\n",
        "    print(str(i) +  \" inches\")\n",
        "\n",
        "# For loop over np_baseball\n",
        "for i in np.nditer(np_baseball):\n",
        "    print(i)"
      ],
      "execution_count": 0,
      "outputs": []
    },
    {
      "cell_type": "code",
      "metadata": {
        "id": "nHO4t4sPgD4M",
        "colab_type": "code",
        "colab": {}
      },
      "source": [
        "# Import cars data\n",
        "import pandas as pd\n",
        "cars = pd.read_csv('cars.csv', index_col = 0)\n",
        "\n",
        "# Iterate over rows of cars\n",
        "for lab,row in cars.iterrows():\n",
        "    print(lab)\n",
        "    print(row)"
      ],
      "execution_count": 0,
      "outputs": []
    },
    {
      "cell_type": "code",
      "metadata": {
        "id": "pCqkTuCxgGJz",
        "colab_type": "code",
        "colab": {}
      },
      "source": [
        "# Import cars data\n",
        "import pandas as pd\n",
        "cars = pd.read_csv('cars.csv', index_col = 0)\n",
        "\n",
        "# Adapt for loop\n",
        "for lab, row in cars.iterrows() :\n",
        "    print(lab)\n",
        "    print(row)"
      ],
      "execution_count": 0,
      "outputs": []
    },
    {
      "cell_type": "code",
      "metadata": {
        "id": "ZPovDlq-gHyH",
        "colab_type": "code",
        "colab": {}
      },
      "source": [
        "# Import cars data\n",
        "import pandas as pd\n",
        "cars = pd.read_csv('cars.csv', index_col = 0)\n",
        "\n",
        "# Code for loop that adds COUNTRY column\n",
        "for lab,row in cars.iterrows() :\n",
        "    cars.loc[lab,\"COUNTRY\"] =  row['country'].upper()\n",
        "\n",
        "\n",
        "\n",
        "# Print cars\n",
        "print(cars)"
      ],
      "execution_count": 0,
      "outputs": []
    },
    {
      "cell_type": "code",
      "metadata": {
        "id": "mK0HpOZFgJex",
        "colab_type": "code",
        "colab": {}
      },
      "source": [
        "# Import cars data\n",
        "import pandas as pd\n",
        "cars = pd.read_csv('cars.csv', index_col = 0)\n",
        "\n",
        "# Use .apply(str.upper)\n",
        "cars['COUNTRY'] = cars['country'].apply(str.upper)\n",
        "print(cars)"
      ],
      "execution_count": 0,
      "outputs": []
    },
    {
      "cell_type": "code",
      "metadata": {
        "id": "AmcWM_9ugLMk",
        "colab_type": "code",
        "colab": {}
      },
      "source": [
        ""
      ],
      "execution_count": 0,
      "outputs": []
    }
  ]
}