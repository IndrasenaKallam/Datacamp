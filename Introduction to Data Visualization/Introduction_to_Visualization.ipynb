{
  "nbformat": 4,
  "nbformat_minor": 0,
  "metadata": {
    "colab": {
      "name": "Introduction to Visualization.ipynb",
      "provenance": []
    },
    "kernelspec": {
      "name": "python3",
      "display_name": "Python 3"
    }
  },
  "cells": [
    {
      "cell_type": "code",
      "metadata": {
        "id": "8NJknqNPZiil",
        "colab_type": "code",
        "colab": {}
      },
      "source": [
        "# Import matplotlib.pyplot\n",
        "import matplotlib.pyplot as plt\n",
        "\n",
        "# Plot in blue the % of degrees awarded to women in the Physical Sciences\n",
        "plt.plot(year, physical_sciences, color ='blue')\n",
        "\n",
        "# Plot in red the % of degrees awarded to women in Computer Science\n",
        "plt.plot(year,computer_science,color = 'red')\n",
        "\n",
        "# Display the plot\n",
        "plt.show()\n"
      ],
      "execution_count": 0,
      "outputs": []
    },
    {
      "cell_type": "code",
      "metadata": {
        "id": "xMEZ1brpZzuk",
        "colab_type": "code",
        "colab": {}
      },
      "source": [
        "# Create plot axes for the first line plot\n",
        "plt.axes([0.05,0.05,0.425,0.9])\n",
        "\n",
        "# Plot in blue the % of degrees awarded to women in the Physical Sciences\n",
        "plt.plot(year , physical_sciences , color='blue')\n",
        "\n",
        "# Create plot axes for the second line plot\n",
        "plt.axes([0.525,0.05,0.425,0.9])\n",
        "\n",
        "# Plot in red the % of degrees awarded to women in Computer Science\n",
        "plt.plot(year,computer_science,'red')\n",
        "\n",
        "# Display the plot\n",
        "plt.show()\n"
      ],
      "execution_count": 0,
      "outputs": []
    },
    {
      "cell_type": "code",
      "metadata": {
        "id": "81CD3hrMZ1On",
        "colab_type": "code",
        "colab": {}
      },
      "source": [
        "# Create a figure with 1x2 subplot and make the left subplot active\n",
        "plt.subplot(1,2,1)\n",
        "\n",
        "# Plot in blue the % of degrees awarded to women in the Physical Sciences\n",
        "plt.plot(year, physical_sciences, color='blue')\n",
        "plt.title('Physical Sciences')\n",
        "\n",
        "# Make the right subplot active in the current 1x2 subplot grid\n",
        "plt.subplot(1,2,2)\n",
        "\n",
        "# Plot in red the % of degrees awarded to women in Computer Science\n",
        "plt.plot(year, computer_science, color='red')\n",
        "plt.title('Computer Science')\n",
        "\n",
        "# Use plt.tight_layout() to improve the spacing between subplots\n",
        "plt.tight_layout()\n",
        "plt.show()\n"
      ],
      "execution_count": 0,
      "outputs": []
    },
    {
      "cell_type": "code",
      "metadata": {
        "id": "upfPBPd7Z2sY",
        "colab_type": "code",
        "colab": {}
      },
      "source": [
        "# Create a figure with 2x2 subplot layout and make the top left subplot active\n",
        "plt.subplot(2,2,1)\n",
        "\n",
        "# Plot in blue the % of degrees awarded to women in the Physical Sciences\n",
        "plt.plot(year, physical_sciences, color='blue')\n",
        "plt.title('Physical Sciences')\n",
        "\n",
        "# Make the top right subplot active in the current 2x2 subplot grid \n",
        "plt.subplot(2,2,2)\n",
        "\n",
        "# Plot in red the % of degrees awarded to women in Computer Science\n",
        "plt.plot(year, computer_science, color='red')\n",
        "plt.title('Computer Science')\n",
        "\n",
        "# Make the bottom left subplot active in the current 2x2 subplot grid\n",
        "plt.subplot(2,2,3)\n",
        "\n",
        "# Plot in green the % of degrees awarded to women in Health Professions\n",
        "plt.plot(year, health , color='green')\n",
        "plt.title('Health Professions')\n",
        "\n",
        "# Make the bottom right subplot active in the current 2x2 subplot grid\n",
        "plt.subplot(2,2,4)\n",
        "\n",
        "# Plot in yellow the % of degrees awarded to women in Education\n",
        "plt.plot(year, education, color='yellow')\n",
        "plt.title('Education')\n",
        "\n",
        "# Improve the spacing between subplots and display them\n",
        "plt.tight_layout()\n",
        "plt.show()\n"
      ],
      "execution_count": 0,
      "outputs": []
    },
    {
      "cell_type": "markdown",
      "metadata": {
        "id": "6XvdrD-6Z4jF",
        "colab_type": "text"
      },
      "source": [
        "# customizing axes"
      ]
    },
    {
      "cell_type": "code",
      "metadata": {
        "id": "4i_lhu7TZ_9I",
        "colab_type": "code",
        "colab": {}
      },
      "source": [
        "# Plot the % of degrees awarded to women in Computer Science and the Physical Sciences\n",
        "plt.plot(year,computer_science, color='red') \n",
        "plt.plot(year, physical_sciences, color='blue')\n",
        "\n",
        "# Add the axis labels\n",
        "plt.xlabel('Year')\n",
        "plt.ylabel('Degrees awarded to women (%)')\n",
        "\n",
        "# Set the x-axis range\n",
        "plt.xlim((1990,2010))\n",
        "\n",
        "# Set the y-axis range\n",
        "plt.ylim((0,50))\n",
        "\n",
        "# Add a title and display the plot\n",
        "plt.title('Degrees awarded to women (1990-2010)\\nComputer Science (red)\\nPhysical Sciences (blue)')\n",
        "plt.show()\n",
        "\n",
        "# Save the image as 'xlim_and_ylim.png'\n",
        "\n",
        "plt.show()\n",
        "plt.savefig('xlim_and_ylim.png')\n"
      ],
      "execution_count": 0,
      "outputs": []
    },
    {
      "cell_type": "code",
      "metadata": {
        "id": "uliWblyjaBVI",
        "colab_type": "code",
        "colab": {}
      },
      "source": [
        "# Plot in blue the % of degrees awarded to women in Computer Science\n",
        "plt.plot(year,computer_science, color='blue')\n",
        "\n",
        "# Plot in red the % of degrees awarded to women in the Physical Sciences\n",
        "plt.plot(year, physical_sciences,color='red')\n",
        "\n",
        "# Set the x-axis and y-axis limits\n",
        "plt.axis((1990,2010,0,50))\n",
        "\n",
        "# Show the figure\n",
        "plt.show()\n",
        "\n",
        "# Save the figure as 'axis_limits.png'\n",
        "plt.savefig('axis_limits.png')\n"
      ],
      "execution_count": 0,
      "outputs": []
    },
    {
      "cell_type": "markdown",
      "metadata": {
        "id": "7wgFL3aRaCtA",
        "colab_type": "text"
      },
      "source": [
        "# Legends annotation and styles"
      ]
    },
    {
      "cell_type": "code",
      "metadata": {
        "id": "hYjOBwIVaJEw",
        "colab_type": "code",
        "colab": {}
      },
      "source": [
        "# Specify the label 'Computer Science'\n",
        "plt.plot(year, computer_science, color='red', label ='Computer Science') \n",
        "\n",
        "# Specify the label 'Physical Sciences' \n",
        "plt.plot(year, physical_sciences, color='blue', label ='Physical Sciences')\n",
        "\n",
        "# Add a legend at the lower center\n",
        "plt.legend(loc = 'lower center')\n",
        "\n",
        "# Add axis labels and title\n",
        "plt.xlabel('Year')\n",
        "plt.ylabel('Enrollment (%)')\n",
        "plt.title('Undergraduate enrollment of women')\n",
        "plt.show()\n"
      ],
      "execution_count": 0,
      "outputs": []
    },
    {
      "cell_type": "code",
      "metadata": {
        "id": "hog67p69aKPw",
        "colab_type": "code",
        "colab": {}
      },
      "source": [
        "# Import matplotlib.pyplot\n",
        "import matplotlib.pyplot as plt \n",
        "\n",
        "# Set the style to 'ggplot'\n",
        "plt.style.use('ggplot')\n",
        "\n",
        "# Create a figure with 2x2 subplot layout\n",
        "plt.subplot(2, 2, 1) \n",
        "\n",
        "# Plot the enrollment % of women in the Physical Sciences\n",
        "plt.plot(year, physical_sciences, color='blue')\n",
        "plt.title('Physical Sciences')\n",
        "\n",
        "# Plot the enrollment % of women in Computer Science\n",
        "plt.subplot(2, 2, 2)\n",
        "plt.plot(year, computer_science, color='red')\n",
        "plt.title('Computer Science')\n",
        "\n",
        "# Add annotation\n",
        "cs_max = computer_science.max()\n",
        "yr_max = year[computer_science.argmax()]\n",
        "plt.annotate('Maximum', xy=(yr_max, cs_max), xytext=(yr_max-1, cs_max-10), arrowprops=dict(facecolor='black'))\n",
        "\n",
        "# Plot the enrollmment % of women in Health professions\n",
        "plt.subplot(2, 2, 3)\n",
        "plt.plot(year, health, color='green')\n",
        "plt.title('Health Professions')\n",
        "\n",
        "# Plot the enrollment % of women in Education\n",
        "plt.subplot(2, 2, 4)\n",
        "plt.plot(year, education, color='yellow')\n",
        "plt.title('Education')\n",
        "\n",
        "# Improve spacing between subplots and display them\n",
        "plt.tight_layout()\n",
        "plt.show()"
      ],
      "execution_count": 0,
      "outputs": []
    },
    {
      "cell_type": "markdown",
      "metadata": {
        "id": "Sf0rGZlJaNto",
        "colab_type": "text"
      },
      "source": [
        "# Working with 2D graphs"
      ]
    },
    {
      "cell_type": "code",
      "metadata": {
        "id": "pdeMBVuKaUmt",
        "colab_type": "code",
        "colab": {}
      },
      "source": [
        "# Import numpy and matplotlib.pyplot\n",
        "import numpy as np \n",
        "import matplotlib.pyplot as plt \n",
        "\n",
        "# Generate two 1-D arrays: u, v\n",
        "u = np.linspace(-2, +2,41)\n",
        "v = np.linspace(-1,+1,21)\n",
        "\n",
        "# Generate 2-D arrays from u and v: X, Y\n",
        "X,Y = np.meshgrid(u,v)\n",
        "\n",
        "# Compute Z based on X and Y\n",
        "Z = np.sin(3*np.sqrt(X**2 + Y**2)) \n",
        "\n",
        "# Display the resulting image with pcolor()\n",
        "plt.pcolor(Z)\n",
        "plt.show()\n",
        "\n",
        "# Save the figure to 'sine_mesh.png'\n",
        "plt.savefig('sine_mesh.png')\n"
      ],
      "execution_count": 0,
      "outputs": []
    },
    {
      "cell_type": "code",
      "metadata": {
        "id": "Oz6u7OP4aWTU",
        "colab_type": "code",
        "colab": {}
      },
      "source": [
        ""
      ],
      "execution_count": 0,
      "outputs": []
    },
    {
      "cell_type": "markdown",
      "metadata": {
        "id": "X9aVtzJAabY0",
        "colab_type": "text"
      },
      "source": [
        "# Visualizing bivariate functions\n"
      ]
    },
    {
      "cell_type": "code",
      "metadata": {
        "id": "_L8Px64Yac4b",
        "colab_type": "code",
        "colab": {}
      },
      "source": [
        "# Generate a default contour map of the array Z\n",
        "plt.subplot(2,2,1)\n",
        "plt.contour(X,Y,Z)\n",
        "\n",
        "# Generate a contour map with 20 contours\n",
        "plt.subplot(2,2,2)\n",
        "plt.contour(X,Y,Z,20)\n",
        "\n",
        "# Generate a default filled contour map of the array Z\n",
        "plt.subplot(2,2,3)\n",
        "plt.contourf(X,Y,Z)\n",
        "\n",
        "# Generate a default filled contour map with 20 contours\n",
        "plt.subplot(2,2,4)\n",
        "plt.contourf(X,Y,Z,20)\n",
        "# Improve the spacing between subplots\n",
        "plt.tight_layout()\n",
        "\n",
        "# Display the figure\n",
        "plt.show()\n",
        "\n"
      ],
      "execution_count": 0,
      "outputs": []
    },
    {
      "cell_type": "code",
      "metadata": {
        "id": "rLegXOOqaeAJ",
        "colab_type": "code",
        "colab": {}
      },
      "source": [
        "# Create a filled contour plot with a color map of 'viridis'\n",
        "plt.subplot(2,2,1)\n",
        "plt.contourf(X,Y,Z,20, cmap ='viridis')\n",
        "plt.colorbar()\n",
        "plt.title('Viridis')\n",
        "\n",
        "# Create a filled contour plot with a color map of 'gray'\n",
        "plt.subplot(2,2,2)\n",
        "plt.contourf(X,Y,Z,20, cmap ='gray')\n",
        "plt.colorbar()\n",
        "plt.title('Gray')\n",
        "\n",
        "# Create a filled contour plot with a color map of 'autumn'\n",
        "plt.subplot(2,2,3)\n",
        "plt.contourf(X,Y,Z,20,cmap ='autumn')\n",
        "plt.colorbar()\n",
        "plt.title('Autumn')\n",
        "\n",
        "# Create a filled contour plot with a color map of 'winter'\n",
        "plt.subplot(2,2,4)\n",
        "plt.contourf(X,Y,Z,20,cmap = 'winter')\n",
        "plt.colorbar()\n",
        "plt.title('Winter')\n",
        "\n",
        "# Improve the spacing between subplots and display them\n",
        "plt.tight_layout()\n",
        "plt.show()\n"
      ],
      "execution_count": 0,
      "outputs": []
    },
    {
      "cell_type": "code",
      "metadata": {
        "id": "YVhh-kZmafP8",
        "colab_type": "code",
        "colab": {}
      },
      "source": [
        ""
      ],
      "execution_count": 0,
      "outputs": []
    },
    {
      "cell_type": "markdown",
      "metadata": {
        "id": "rLQjuAzVaimS",
        "colab_type": "text"
      },
      "source": [
        "# Visualizing bivariate distributions\n"
      ]
    },
    {
      "cell_type": "code",
      "metadata": {
        "id": "UDgEfPu6akUk",
        "colab_type": "code",
        "colab": {}
      },
      "source": [
        "# Generate a 2-D histogram\n",
        "plt.hist2d(hp,mpg,bins=(20,20),range =((40,235),(8,48)))\n",
        "\n",
        "# Add a color bar to the histogram\n",
        "plt.colorbar()\n",
        "\n",
        "# Add labels, title, and display the plot\n",
        "plt.xlabel('Horse power [hp]')\n",
        "plt.ylabel('Miles per gallon [mpg]')\n",
        "plt.title('hist2d() plot')\n",
        "plt.show()\n"
      ],
      "execution_count": 0,
      "outputs": []
    },
    {
      "cell_type": "code",
      "metadata": {
        "id": "x47RuuEwamjM",
        "colab_type": "code",
        "colab": {}
      },
      "source": [
        "# Generate a 2d histogram with hexagonal bins\n",
        "plt.hexbin(hp,mpg,gridsize=(15,12),extent=(40,235,8,48))\n",
        "\n",
        "           \n",
        "# Add a color bar to the histogram\n",
        "plt.colorbar()\n",
        "\n",
        "# Add labels, title, and display the plot\n",
        "plt.xlabel('Horse power [hp]')\n",
        "plt.ylabel('Miles per gallon [mpg]')\n",
        "plt.title('hexbin() plot')\n",
        "plt.show()\n"
      ],
      "execution_count": 0,
      "outputs": []
    },
    {
      "cell_type": "code",
      "metadata": {
        "id": "9HZ6ZzfNaoCd",
        "colab_type": "code",
        "colab": {}
      },
      "source": [
        ""
      ],
      "execution_count": 0,
      "outputs": []
    },
    {
      "cell_type": "markdown",
      "metadata": {
        "id": "q0-EhbScapoB",
        "colab_type": "text"
      },
      "source": [
        "# working with images "
      ]
    },
    {
      "cell_type": "code",
      "metadata": {
        "id": "bZKZYnz4ar7p",
        "colab_type": "code",
        "colab": {}
      },
      "source": [
        "# Load the image into an array: img\n",
        "img = plt.imread('480px-Astronaut-EVA.jpg')\n",
        "# Print the shape of the image\n",
        "print(img.shape)\n",
        "\n",
        "# Display the image\n",
        "plt.imshow(img)\n",
        "\n",
        "# Hide the axes\n",
        "plt.axis('off')\n",
        "plt.show()\n"
      ],
      "execution_count": 0,
      "outputs": []
    },
    {
      "cell_type": "code",
      "metadata": {
        "id": "VRyOyqXTauaA",
        "colab_type": "code",
        "colab": {}
      },
      "source": [
        "# Load the image into an array: img\n",
        "img = plt.imread('480px-Astronaut-EVA.jpg')\n",
        "\n",
        "# Print the shape of the image\n",
        "print(img.shape)\n",
        "\n",
        "# Compute the sum of the red, green and blue channels: intensity\n",
        "intensity = img.sum(axis=2)\n",
        "\n",
        "# Print the shape of the intensity\n",
        "print(intensity.shape)\n",
        "\n",
        "# Display the intensity with a colormap of 'gray'\n",
        "plt.imshow(intensity, cmap='gray')\n",
        "\n",
        "# Add a colorbar\n",
        "plt.colorbar()\n",
        "\n",
        "# Hide the axes and show the figure\n",
        "plt.axis('off')\n",
        "plt.show()\n"
      ],
      "execution_count": 0,
      "outputs": []
    },
    {
      "cell_type": "code",
      "metadata": {
        "id": "Nor5HNhuay4d",
        "colab_type": "code",
        "colab": {}
      },
      "source": [
        "# Load the image into an array: img\n",
        "img = plt.imread('480px-Astronaut-EVA.jpg')\n",
        "\n",
        "# Specify the extent and aspect ratio of the top left subplot\n",
        "plt.subplot(2,2,1)\n",
        "plt.title('extent=(-1,1,-1,1),\\naspect=0.5') \n",
        "plt.xticks([-1,0,1])\n",
        "plt.yticks([-1,0,1])\n",
        "plt.imshow(img, extent =(-1,1,-1,1),aspect=0.5)\n",
        "\n",
        "# Specify the extent and aspect ratio of the top right subplot\n",
        "plt.subplot(2,2,2)\n",
        "plt.title('extent=(-1,1,-1,1),\\naspect=1')\n",
        "plt.xticks([-1,0,1])\n",
        "plt.yticks([-1,0,1])\n",
        "plt.imshow(img, extent=(-1,1,-1,1), aspect=1)\n",
        "\n",
        "# Specify the extent and aspect ratio of the bottom left subplot\n",
        "plt.subplot(2,2,3)\n",
        "plt.title('extent=(-1,1,-1,1),\\naspect=2')\n",
        "plt.xticks([-1,0,1])\n",
        "plt.yticks([-1,0,1])\n",
        "plt.imshow(img, extent = (-1,1,-1,1), aspect = 2)\n",
        "\n",
        "# Specify the extent and aspect ratio of the bottom right subplot\n",
        "plt.subplot(2,2,4)\n",
        "plt.title('extent=(-2,2,-1,1),\\naspect=2')\n",
        "plt.xticks([-2,-1,0,1,2])\n",
        "plt.yticks([-1,0,1])\n",
        "plt.imshow(img,extent = (-2,2,-1,1),aspect = 2)\n",
        "\n",
        "# Improve spacing and display the figure\n",
        "plt.tight_layout()\n",
        "plt.show()"
      ],
      "execution_count": 0,
      "outputs": []
    },
    {
      "cell_type": "code",
      "metadata": {
        "id": "KlfJTUeea0SF",
        "colab_type": "code",
        "colab": {}
      },
      "source": [
        "# Load the image into an array: image\n",
        "image = plt.imread('640px-Unequalized_Hawkes_Bay_NZ.jpg')\n",
        "\n",
        "# Extract minimum and maximum values from the image: pmin, pmax\n",
        "pmin, pmax = image.min(),image.max()\n",
        "print(\"The smallest & largest pixel intensities are %d & %d.\" % (pmin, pmax))\n",
        "\n",
        "# Rescale the pixels: rescaled_image\n",
        "rescaled_image = 256*(image - pmin) / (pmax - pmin)\n",
        "print(\"The rescaled smallest & largest pixel intensities are %.1f & %.1f.\" % \n",
        "      (rescaled_image.min(), rescaled_image.max()))\n",
        "\n",
        "# Display the rescaled image\n",
        "plt.title('rescaled image')\n",
        "plt.axis('off')\n",
        "plt.imshow(rescaled_image)\n",
        "\n",
        "plt.show()\n"
      ],
      "execution_count": 0,
      "outputs": []
    },
    {
      "cell_type": "markdown",
      "metadata": {
        "id": "JZ5KCcC0a1rp",
        "colab_type": "text"
      },
      "source": [
        "# Visualizing the linear regressions"
      ]
    },
    {
      "cell_type": "code",
      "metadata": {
        "id": "QHHzt4dOa_2o",
        "colab_type": "code",
        "colab": {}
      },
      "source": [
        "# Import plotting modules\n",
        "import matplotlib.pyplot as plt\n",
        "import seaborn as sns\n",
        "\n",
        "# Plot a linear regression between 'weight' and 'hp'\n",
        "sns.lmplot(x='weight', y='hp', data=auto)\n",
        "\n",
        "# Display the plot\n",
        "plt.show()\n"
      ],
      "execution_count": 0,
      "outputs": []
    },
    {
      "cell_type": "code",
      "metadata": {
        "id": "WXh_27mlbBcx",
        "colab_type": "code",
        "colab": {}
      },
      "source": [
        "# Import plotting modules\n",
        "import matplotlib.pyplot as plt\n",
        "import seaborn as sns\n",
        "\n",
        "# Generate a green residual plot of the regression between 'hp' and 'mpg'\n",
        "sns.residplot(x='hp', y='mpg', data=auto, color='green')\n",
        "\n",
        "# Display the plot\n",
        "plt.show()\n"
      ],
      "execution_count": 0,
      "outputs": []
    },
    {
      "cell_type": "code",
      "metadata": {
        "id": "YDEi-cFUbC01",
        "colab_type": "code",
        "colab": {}
      },
      "source": [
        "# Generate a scatter plot of 'weight' and 'mpg' using red circles\n",
        "plt.scatter(auto['weight'], auto['mpg'], label='data', color='red', marker='o')\n",
        "\n",
        "# Plot in blue a linear regression of order 1 between 'weight' and 'mpg'\n",
        "sns.regplot(x='weight', y='mpg', data=auto, scatter=None, color='blue', label='First Order')\n",
        "\n",
        "# Plot in green a linear regression of order 2 between 'weight' and 'mpg'\n",
        "sns.regplot(x='weight', y='mpg', data=auto, scatter=None, order=2, color='green', label='Second Order')\n",
        "\n",
        "# Add a legend and display the plot\n",
        "plt.legend(loc='upper right')\n",
        "plt.show()"
      ],
      "execution_count": 0,
      "outputs": []
    },
    {
      "cell_type": "code",
      "metadata": {
        "id": "RDbdV7SVbFcM",
        "colab_type": "code",
        "colab": {}
      },
      "source": [
        "# Plot a linear regression between 'weight' and 'hp', with a hue of 'origin' and palette of 'Set1'\n",
        "sns.lmplot(x='weight',y='hp',data=auto,hue = 'origin',palette='Set1')\n",
        "\n",
        "# Display the plot\n",
        "plt.show()\n"
      ],
      "execution_count": 0,
      "outputs": []
    },
    {
      "cell_type": "code",
      "metadata": {
        "id": "kK54EBPubGzf",
        "colab_type": "code",
        "colab": {}
      },
      "source": [
        "# Plot a linear regression between 'weight' and 'hp' grouped row-wise by 'origin'\n",
        "sns.lmplot(x='weight', y='hp', data=auto, row='origin')\n",
        "\n",
        "# Display the plot\n",
        "plt.show()\n"
      ],
      "execution_count": 0,
      "outputs": []
    },
    {
      "cell_type": "markdown",
      "metadata": {
        "id": "ULJ9Bz9NbI1N",
        "colab_type": "text"
      },
      "source": [
        "# visualizing univariate Distribution"
      ]
    },
    {
      "cell_type": "code",
      "metadata": {
        "id": "vcs9kiFjbTUl",
        "colab_type": "code",
        "colab": {}
      },
      "source": [
        "# Make a strip plot of 'hp' grouped by 'cyl'\n",
        "plt.subplot(2,1,1)\n",
        "sns.stripplot(x='cyl', y='hp', data=auto)\n",
        "\n",
        "# Make the strip plot again using jitter and a smaller point size\n",
        "plt.subplot(2,1,2)\n",
        "sns.stripplot(x='cyl', y = 'hp', data=auto, jitter=True, size = 3)\n",
        "\n",
        "# Display the plot\n",
        "plt.show()\n"
      ],
      "execution_count": 0,
      "outputs": []
    },
    {
      "cell_type": "code",
      "metadata": {
        "id": "pqxYm6ykbVQ_",
        "colab_type": "code",
        "colab": {}
      },
      "source": [
        "# Generate a swarm plot of 'hp' grouped horizontally by 'cyl'  \n",
        "plt.subplot(2,1,1)\n",
        "sns.swarmplot(x='cyl', y='hp', data=auto)\n",
        "\n",
        "# Generate a swarm plot of 'hp' grouped vertically by 'cyl' with a hue of 'origin'\n",
        "plt.subplot(2,1,2)\n",
        "sns.swarmplot(x='hp', y='cyl', data=auto, hue='origin', orient='h')\n",
        "\n",
        "# Display the plot\n",
        "plt.show()\n"
      ],
      "execution_count": 0,
      "outputs": []
    },
    {
      "cell_type": "code",
      "metadata": {
        "id": "rotTAg4tbX7x",
        "colab_type": "code",
        "colab": {}
      },
      "source": [
        "# Generate a violin plot of 'hp' grouped horizontally by 'cyl'\n",
        "plt.subplot(2,1,1)\n",
        "sns.violinplot(x='cyl', y='hp', data=auto)\n",
        "\n",
        "# Generate the same violin plot again with a color of 'lightgray' and without inner annotations\n",
        "plt.subplot(2,1,2)\n",
        "sns.violinplot(x='cyl', y='hp', data=auto, inner=None, color='lightgray')\n",
        "\n",
        "# Overlay a strip plot on the violin plot\n",
        "sns.stripplot(x='cyl', y='hp', data=auto, jitter=True, size=1.5)\n",
        "\n",
        "# Display the plot\n",
        "plt.show()"
      ],
      "execution_count": 0,
      "outputs": []
    },
    {
      "cell_type": "markdown",
      "metadata": {
        "id": "XbNhCTYeba6O",
        "colab_type": "text"
      },
      "source": [
        "# Visualizing Multivariate distribution"
      ]
    },
    {
      "cell_type": "code",
      "metadata": {
        "id": "cNE1Sr1gbiwF",
        "colab_type": "code",
        "colab": {}
      },
      "source": [
        "# Generate a joint plot of 'hp' and 'mpg'\n",
        "sns.jointplot(x='hp',y='mpg',data=auto)\n",
        "\n",
        "# Display the plot\n",
        "plt.show()\n"
      ],
      "execution_count": 0,
      "outputs": []
    },
    {
      "cell_type": "code",
      "metadata": {
        "id": "AN1ANBZsbkI4",
        "colab_type": "code",
        "colab": {}
      },
      "source": [
        "# Generate a joint plot of 'hp' and 'mpg' using a hexbin plot\n",
        "sns.jointplot(x='hp', y ='mpg', data=auto,kind='hex')\n",
        "\n",
        "# Display the plot\n",
        "plt.show()\n"
      ],
      "execution_count": 0,
      "outputs": []
    },
    {
      "cell_type": "code",
      "metadata": {
        "id": "YjMfXyTAblfE",
        "colab_type": "code",
        "colab": {}
      },
      "source": [
        "# Print the first 5 rows of the DataFrame\n",
        "print(auto.head())\n",
        "\n",
        "# Plot the pairwise joint distributions from the DataFrame \n",
        "sns.pairplot(data=auto)\n",
        "\n",
        "# Display the plot\n",
        "plt.show()\n"
      ],
      "execution_count": 0,
      "outputs": []
    },
    {
      "cell_type": "code",
      "metadata": {
        "id": "yucHzWeRbmvO",
        "colab_type": "code",
        "colab": {}
      },
      "source": [
        "# Print the first 5 rows of the DataFrame\n",
        "print(auto.head())\n",
        "\n",
        "# Plot the pairwise joint distributions grouped by 'origin' along with regression lines\n",
        "sns.pairplot(data=auto,hue='origin',kind ='reg')\n",
        "\n",
        "# Display the plot\n",
        "plt.show()\n"
      ],
      "execution_count": 0,
      "outputs": []
    },
    {
      "cell_type": "code",
      "metadata": {
        "id": "BnFtKAepboLG",
        "colab_type": "code",
        "colab": {}
      },
      "source": [
        "# Print the covariance matrix\n",
        "print(cov_matrix)\n",
        "\n",
        "# Visualize the covariance matrix using a heatmap\n",
        "sns.heatmap(cov_matrix)\n",
        "\n",
        "# Display the heatmap\n",
        "plt.show()\n"
      ],
      "execution_count": 0,
      "outputs": []
    },
    {
      "cell_type": "markdown",
      "metadata": {
        "id": "pm4iE7ftbpyW",
        "colab_type": "text"
      },
      "source": [
        "# visualizing Time series"
      ]
    },
    {
      "cell_type": "code",
      "metadata": {
        "id": "FW2A4mLHbvny",
        "colab_type": "code",
        "colab": {}
      },
      "source": [
        "# Import matplotlib.pyplot as plt\n",
        "import matplotlib.pyplot as plt \n",
        "\n",
        "# Plot the aapl time series in blue\n",
        "plt.plot(aapl, color='blue', label='AAPL')\n",
        "\n",
        "# Plot the ibm time series in green\n",
        "plt.plot(ibm, color='green', label='IBM')\n",
        "\n",
        "# Plot the csco time series in red\n",
        "plt.plot(csco, color='red', label='CSCO')\n",
        "\n",
        "# Plot the msft time series in magenta\n",
        "plt.plot(msft,color='magenta',label='MSFT')\n",
        "\n",
        "# Add a legend in the top left corner of the plot\n",
        "plt.legend(loc='upper left')\n",
        "\n",
        "# Specify the orientation of the xticks\n",
        "plt.xticks(rotation = 60)\n",
        "\n",
        "# Display the plot\n",
        "plt.show()\n"
      ],
      "execution_count": 0,
      "outputs": []
    },
    {
      "cell_type": "code",
      "metadata": {
        "id": "ZUNx72Iubw5o",
        "colab_type": "code",
        "colab": {}
      },
      "source": [
        "# Plot the series in the top subplot in blue\n",
        "plt.subplot(2,1,1)\n",
        "plt.xticks(rotation=45)\n",
        "plt.title('AAPL: 2001 to 2011')\n",
        "plt.plot(aapl, color='blue')\n",
        "\n",
        "# Slice aapl from '2007' to '2008' inclusive: view\n",
        "view = aapl['2007':'2008']\n",
        "\n",
        "# Plot the sliced data in the bottom subplot in black\n",
        "plt.subplot(2,1,2)\n",
        "plt.xticks(rotation=45)\n",
        "plt.title('AAPL: 2007 to 2008')\n",
        "plt.plot(view, color='black')\n",
        "plt.tight_layout()\n",
        "plt.show()\n"
      ],
      "execution_count": 0,
      "outputs": []
    },
    {
      "cell_type": "code",
      "metadata": {
        "id": "pbxQM-2wbzL0",
        "colab_type": "code",
        "colab": {}
      },
      "source": [
        "# Slice aapl from Nov. 2007 to Apr. 2008 inclusive: view\n",
        "view_1 = aapl['2007-11':'2008-04']\n",
        "\n",
        "# Plot the sliced series in the top subplot in red\n",
        "plt.subplot(2,1,1)\n",
        "plt.plot(view_1,color='red')\n",
        "plt.xticks(rotation = 45)\n",
        "\n",
        "plt.title('AAPL: Nov. 2007 to Apr. 2008')\n",
        "plt.show()\n",
        "\n",
        "# Reassign the series by slicing the month January 2008\n",
        "view_2 = aapl['2008-01']\n",
        "\n",
        "# Plot the sliced series in the bottom subplot in green\n",
        "plt.subplot(2,1,2)\n",
        "plt.plot(view_2,color='green')\n",
        "plt.title('AAPL: Jan. 2008')\n",
        "plt.xticks(rotation=45)\n",
        "# Improve spacing and display the plot\n",
        "plt.tight_layout()\n",
        "plt.show()\n"
      ],
      "execution_count": 0,
      "outputs": []
    },
    {
      "cell_type": "code",
      "metadata": {
        "id": "Cf4RLMpGb0cS",
        "colab_type": "code",
        "colab": {}
      },
      "source": [
        "# Slice aapl from Nov. 2007 to Apr. 2008 inclusive: view\n",
        "view = aapl['2007-11':'2008-04']\n",
        "\n",
        "# Plot the entire series \n",
        "plt.plot(aapl)\n",
        "plt.xticks(rotation=45)\n",
        "plt.title('AAPL: 2001-2011')\n",
        "\n",
        "# Specify the axes\n",
        "plt.axes([0.25, 0.5, 0.35, 0.35])\n",
        "\n",
        "# Plot the sliced series in red using the current axes\n",
        "plt.plot(view, color='red')\n",
        "plt.xticks(rotation=45)\n",
        "plt.title('2007/11-2008/04')\n",
        "plt.show()\n"
      ],
      "execution_count": 0,
      "outputs": []
    },
    {
      "cell_type": "markdown",
      "metadata": {
        "id": "grs0hk3Cb2qt",
        "colab_type": "text"
      },
      "source": [
        "# Time series with moving windows"
      ]
    },
    {
      "cell_type": "code",
      "metadata": {
        "id": "JGIcqGjnb-wy",
        "colab_type": "code",
        "colab": {}
      },
      "source": [
        "# Plot the 30-day moving average in the top left subplot in green\n",
        "plt.subplot(2,2,1)\n",
        "plt.plot(mean_30, color='green')\n",
        "plt.plot(aapl, 'k-.')\n",
        "plt.xticks(rotation=60)\n",
        "plt.title('30d averages')\n",
        "\n",
        "# Plot the 75-day moving average in the top right subplot in red\n",
        "plt.subplot(2,2,2)\n",
        "plt.plot(mean_75, 'red')\n",
        "plt.plot(aapl, 'k-.')\n",
        "plt.xticks(rotation=60)\n",
        "plt.title('75d averages')\n",
        "\n",
        "# Plot the 125-day moving average in the bottom left subplot in magenta\n",
        "plt.subplot(2, 2, 3)\n",
        "plt.plot(mean_125,color='magenta')\n",
        "plt.plot(aapl, 'k-.')\n",
        "plt.xticks(rotation=60)\n",
        "plt.title('125d averages')\n",
        "\n",
        "# Plot the 250-day moving average in the bottom right subplot in cyan\n",
        "plt.subplot(2, 2, 4)\n",
        "plt.plot(mean_250,color='cyan')\n",
        "plt.plot(aapl, 'k-.')\n",
        "plt.xticks(rotation=60)\n",
        "plt.title('250d averages')\n",
        "\n",
        "# Display the plot\n",
        "plt.show()\n"
      ],
      "execution_count": 0,
      "outputs": []
    },
    {
      "cell_type": "code",
      "metadata": {
        "id": "b7rW7SLjcAjn",
        "colab_type": "code",
        "colab": {}
      },
      "source": [
        "# Plot std_30 in red\n",
        "plt.plot(std_30, color='red', label='30d')\n",
        "\n",
        "# Plot std_75 in cyan\n",
        "plt.plot(std_75, color='cyan', label='75d')\n",
        "\n",
        "# Plot std_125 in green\n",
        "plt.plot(std_125, color='green', label='125d')\n",
        "\n",
        "# Plot std_250 in magenta\n",
        "plt.plot(std_250, color='magenta', label='250d')\n",
        "\n",
        "# Add a legend to the upper left\n",
        "plt.legend(loc='upper left')\n",
        "\n",
        "# Add a title\n",
        "plt.title('Moving standard deviations')\n",
        "\n",
        "# Display the plot\n",
        "plt.show()\n"
      ],
      "execution_count": 0,
      "outputs": []
    },
    {
      "cell_type": "code",
      "metadata": {
        "id": "T06Lam_icB0I",
        "colab_type": "code",
        "colab": {}
      },
      "source": [
        ""
      ],
      "execution_count": 0,
      "outputs": []
    },
    {
      "cell_type": "code",
      "metadata": {
        "id": "5GxmmpiPcE0N",
        "colab_type": "code",
        "colab": {}
      },
      "source": [
        ""
      ],
      "execution_count": 0,
      "outputs": []
    },
    {
      "cell_type": "markdown",
      "metadata": {
        "id": "Rb0dUFsucFLh",
        "colab_type": "text"
      },
      "source": [
        "# Histogram equalization in images"
      ]
    },
    {
      "cell_type": "code",
      "metadata": {
        "id": "QB1erhVpcHi_",
        "colab_type": "code",
        "colab": {}
      },
      "source": [
        "# Load the image into an array: image\n",
        "image = plt.imread('640px-Unequalized_Hawkes_Bay_NZ.jpg')\n",
        "\n",
        "# Display image in top subplot using color map 'gray'\n",
        "plt.subplot(2,1,1)\n",
        "plt.title('Original image')\n",
        "plt.axis('off')\n",
        "plt.imshow(image,cmap='gray')\n",
        "\n",
        "# Flatten the image into 1 dimension: pixels\n",
        "pixels = image.flatten()\n",
        "\n",
        "# Display a histogram of the pixels in the bottom subplot\n",
        "plt.subplot(2,1,2)\n",
        "plt.xlim((0,255))\n",
        "plt.title('Normalized histogram')\n",
        "plt.hist(pixels,bins=64,range=(0,256),normed=True,color='red',alpha=0.4)\n",
        "\n",
        "# Display the plot\n",
        "plt.show()\n"
      ],
      "execution_count": 0,
      "outputs": []
    },
    {
      "cell_type": "code",
      "metadata": {
        "id": "U2MvV-dMcJV2",
        "colab_type": "code",
        "colab": {}
      },
      "source": [
        "# Load the image into an array: image\n",
        "image = plt.imread('640px-Unequalized_Hawkes_Bay_NZ.jpg')\n",
        "\n",
        "# Display image in top subplot using color map 'gray'\n",
        "plt.subplot(2,1,1)\n",
        "plt.imshow(image, cmap='gray')\n",
        "plt.title('Original image')\n",
        "plt.axis('off')\n",
        "\n",
        "# Flatten the image into 1 dimension: pixels\n",
        "pixels = image.flatten()\n",
        "\n",
        "# Display a histogram of the pixels in the bottom subplot\n",
        "plt.subplot(2,1,2)\n",
        "pdf = plt.hist(pixels, bins=64, range=(0,256), normed=False,\n",
        "               color='red', alpha=0.4)\n",
        "plt.grid('off')\n",
        "\n",
        "# Use plt.twinx() to overlay the CDF in the bottom subplot\n",
        "plt.twinx()\n",
        "\n",
        "# Display a cumulative histogram of the pixels\n",
        "cdf = plt.hist(pixels, bins=64, range=(0,256),\n",
        "               normed=True, cumulative=True,\n",
        "               color='blue', alpha=0.4)\n",
        "               \n",
        "# Specify x-axis range, hide axes, add title and display plot\n",
        "plt.xlim((0,256))\n",
        "plt.grid('off')\n",
        "plt.title('PDF & CDF (original image)')\n",
        "plt.show()\n",
        "\n"
      ],
      "execution_count": 0,
      "outputs": []
    },
    {
      "cell_type": "code",
      "metadata": {
        "id": "VkJbIdrscK3a",
        "colab_type": "code",
        "colab": {}
      },
      "source": [
        "# Load the image into an array: image\n",
        "image = plt.imread('640px-Unequalized_Hawkes_Bay_NZ.jpg')\n",
        "\n",
        "# Flatten the image into 1 dimension: pixels\n",
        "pixels = image.flatten()\n",
        "\n",
        "# Generate a cumulative histogram\n",
        "cdf, bins, patches = plt.hist(pixels, bins=256, range=(0,256), normed=True, cumulative=True)\n",
        "new_pixels = np.interp(pixels, bins[:-1], cdf*255)\n",
        "\n",
        "# Reshape new_pixels as a 2-D array: new_image\n",
        "new_image = new_pixels.reshape(image.shape)\n",
        "\n",
        "# Display the new image with 'gray' color map\n",
        "plt.subplot(2,1,1)\n",
        "plt.title('Equalized image')\n",
        "plt.axis('off')\n",
        "plt.imshow(new_image, cmap='gray')\n",
        "plt.show()"
      ],
      "execution_count": 0,
      "outputs": []
    },
    {
      "cell_type": "code",
      "metadata": {
        "id": "-_kYrYV4cMGL",
        "colab_type": "code",
        "colab": {}
      },
      "source": [
        "# Load the image into an array: image\n",
        "image = plt.imread('hs-2004-32-b-small_web.jpg')\n",
        "\n",
        "# Display image in top subplot\n",
        "plt.subplot(2,1,1)\n",
        "plt.title('Original image')\n",
        "plt.axis('off')\n",
        "plt.imshow(image)\n",
        "\n",
        "# Extract 2-D arrays of the RGB channels: red, green, blue\n",
        "red, green, blue = image[:,:,0], image[:,:,1], image[:,:,2]\n",
        "\n",
        "# Flatten the 2-D arrays of the RGB channels into 1-D\n",
        "red_pixels = red.flatten()\n",
        "green_pixels = green.flatten()\n",
        "blue_pixels = blue.flatten()\n",
        "\n",
        "# Overlay histograms of the pixels of each color in the bottom subplot\n",
        "plt.subplot(2,1,2)\n",
        "plt.title('Histograms from color image')\n",
        "plt.xlim((0,256))\n",
        "plt.hist(red_pixels, bins=64, normed=True, color='red', alpha=0.2)\n",
        "plt.hist(green_pixels, bins=64, normed=True, color='green', alpha=0.2)\n",
        "plt.hist(blue_pixels, bins=64, normed=True, color='blue', alpha=0.2)\n",
        "\n",
        "# Display the plot\n",
        "plt.show()\n"
      ],
      "execution_count": 0,
      "outputs": []
    },
    {
      "cell_type": "code",
      "metadata": {
        "id": "gR63MbUtcNWC",
        "colab_type": "code",
        "colab": {}
      },
      "source": [
        "# Load the image into an array: image\n",
        "image = plt.imread('hs-2004-32-b-small_web.jpg')\n",
        "\n",
        "# Extract RGB channels and flatten into 1-D array\n",
        "red, green, blue = image[:,:,0], image[:,:,1], image[:,:,2]\n",
        "red_pixels = red.flatten()\n",
        "green_pixels = green.flatten()\n",
        "blue_pixels = blue.flatten()\n",
        "\n",
        "# Generate a 2-D histogram of the red and green pixels\n",
        "plt.subplot(2,2,1)\n",
        "plt.grid('off') \n",
        "plt.xticks(rotation=60)\n",
        "plt.xlabel('red')\n",
        "plt.ylabel('green')\n",
        "plt.hist2d(x=red_pixels,y=green_pixels,bins=(32,32))\n",
        "\n",
        "# Generate a 2-D histogram of the green and blue pixels\n",
        "plt.subplot(2,2,2)\n",
        "plt.grid('off')\n",
        "plt.xticks(rotation=60)\n",
        "plt.xlabel('green')\n",
        "plt.ylabel('blue')\n",
        "plt.hist2d(x=green_pixels,y=blue_pixels,bins=(32,32))\n",
        "\n",
        "# Generate a 2-D histogram of the blue and red pixels\n",
        "plt.subplot(2,2,3)\n",
        "plt.grid('off')\n",
        "plt.xticks(rotation=60)\n",
        "plt.xlabel('blue')\n",
        "plt.ylabel('red')\n",
        "plt.hist2d(x=blue_pixels,y=red_pixels,bins=(32,32))\n",
        "\n",
        "# Display the plot\n",
        "plt.show()\n"
      ],
      "execution_count": 0,
      "outputs": []
    },
    {
      "cell_type": "code",
      "metadata": {
        "id": "38q3UtvjcO-j",
        "colab_type": "code",
        "colab": {}
      },
      "source": [
        ""
      ],
      "execution_count": 0,
      "outputs": []
    }
  ]
}